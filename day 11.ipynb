{
 "cells": [
  {
   "cell_type": "code",
   "execution_count": 5,
   "id": "3d838009",
   "metadata": {},
   "outputs": [],
   "source": [
    "import datetime\n"
   ]
  },
  {
   "cell_type": "code",
   "execution_count": 6,
   "id": "d9e6a606",
   "metadata": {},
   "outputs": [
    {
     "data": {
      "text/plain": [
       "datetime.date(2022, 6, 25)"
      ]
     },
     "execution_count": 6,
     "metadata": {},
     "output_type": "execute_result"
    }
   ],
   "source": [
    "mydate= datetime.date(2022,6,25)\n",
    "mydate"
   ]
  },
  {
   "cell_type": "code",
   "execution_count": 7,
   "id": "1cf313f4",
   "metadata": {},
   "outputs": [
    {
     "data": {
      "text/plain": [
       "datetime.date"
      ]
     },
     "execution_count": 7,
     "metadata": {},
     "output_type": "execute_result"
    }
   ],
   "source": [
    "type(mydate)"
   ]
  },
  {
   "cell_type": "code",
   "execution_count": 8,
   "id": "21b3c284",
   "metadata": {},
   "outputs": [
    {
     "data": {
      "text/plain": [
       "2022"
      ]
     },
     "execution_count": 8,
     "metadata": {},
     "output_type": "execute_result"
    }
   ],
   "source": [
    "mydate.year"
   ]
  },
  {
   "cell_type": "code",
   "execution_count": 9,
   "id": "7b488a11",
   "metadata": {},
   "outputs": [
    {
     "data": {
      "text/plain": [
       "6"
      ]
     },
     "execution_count": 9,
     "metadata": {},
     "output_type": "execute_result"
    }
   ],
   "source": [
    "mydate.month"
   ]
  },
  {
   "cell_type": "code",
   "execution_count": 10,
   "id": "82ffade7",
   "metadata": {},
   "outputs": [
    {
     "data": {
      "text/plain": [
       "25"
      ]
     },
     "execution_count": 10,
     "metadata": {},
     "output_type": "execute_result"
    }
   ],
   "source": [
    "mydate.day"
   ]
  },
  {
   "cell_type": "code",
   "execution_count": 11,
   "id": "66a3e530",
   "metadata": {},
   "outputs": [
    {
     "data": {
      "text/plain": [
       "5"
      ]
     },
     "execution_count": 11,
     "metadata": {},
     "output_type": "execute_result"
    }
   ],
   "source": [
    "mydate.weekday()"
   ]
  },
  {
   "cell_type": "code",
   "execution_count": 13,
   "id": "868c8835",
   "metadata": {},
   "outputs": [
    {
     "data": {
      "text/plain": [
       "datetime.date(2022, 10, 12)"
      ]
     },
     "execution_count": 13,
     "metadata": {},
     "output_type": "execute_result"
    }
   ],
   "source": [
    "#strfttime:this used for the modification of date and time\n",
    "currentdate=datetime.date.today()\n",
    "currentdate"
   ]
  },
  {
   "cell_type": "code",
   "execution_count": 15,
   "id": "621af4e2",
   "metadata": {},
   "outputs": [
    {
     "data": {
      "text/plain": [
       "datetime.time(12, 45, 40, 485858)"
      ]
     },
     "execution_count": 15,
     "metadata": {},
     "output_type": "execute_result"
    }
   ],
   "source": [
    "mytime = datetime.time(12,45,40,485858)\n",
    "mytime"
   ]
  },
  {
   "cell_type": "code",
   "execution_count": 18,
   "id": "ee3291bc",
   "metadata": {},
   "outputs": [
    {
     "data": {
      "text/plain": [
       "datetime.time(12, 41, 45, 617031)"
      ]
     },
     "execution_count": 18,
     "metadata": {},
     "output_type": "execute_result"
    }
   ],
   "source": [
    "currenttime=datetime.datetime.now().time()\n",
    "currenttime"
   ]
  },
  {
   "cell_type": "code",
   "execution_count": 25,
   "id": "04569bf2",
   "metadata": {},
   "outputs": [
    {
     "data": {
      "text/plain": [
       "'12:41:45 PM'"
      ]
     },
     "execution_count": 25,
     "metadata": {},
     "output_type": "execute_result"
    }
   ],
   "source": [
    "currenttime.strftime('%r')"
   ]
  },
  {
   "cell_type": "code",
   "execution_count": 26,
   "id": "0e185531",
   "metadata": {},
   "outputs": [
    {
     "data": {
      "text/plain": [
       "'12'"
      ]
     },
     "execution_count": 26,
     "metadata": {},
     "output_type": "execute_result"
    }
   ],
   "source": [
    "currenttime.strftime('%H')"
   ]
  },
  {
   "cell_type": "code",
   "execution_count": 27,
   "id": "6fc7a3ac",
   "metadata": {},
   "outputs": [
    {
     "data": {
      "text/plain": [
       "'PM'"
      ]
     },
     "execution_count": 27,
     "metadata": {},
     "output_type": "execute_result"
    }
   ],
   "source": [
    "currenttime.strftime('%p')"
   ]
  },
  {
   "cell_type": "code",
   "execution_count": 28,
   "id": "00006fcc",
   "metadata": {},
   "outputs": [
    {
     "data": {
      "text/plain": [
       "datetime.datetime(2022, 10, 12, 12, 48, 58, 347796)"
      ]
     },
     "execution_count": 28,
     "metadata": {},
     "output_type": "execute_result"
    }
   ],
   "source": [
    "current_date_time=datetime.datetime.now()\n",
    "current_date_time"
   ]
  },
  {
   "cell_type": "code",
   "execution_count": 29,
   "id": "e8286c2c",
   "metadata": {},
   "outputs": [
    {
     "data": {
      "text/plain": [
       "'285'"
      ]
     },
     "execution_count": 29,
     "metadata": {},
     "output_type": "execute_result"
    }
   ],
   "source": [
    "current_date_time.strftime('%j')"
   ]
  },
  {
   "cell_type": "code",
   "execution_count": 30,
   "id": "35033da6",
   "metadata": {},
   "outputs": [
    {
     "data": {
      "text/plain": [
       "'3'"
      ]
     },
     "execution_count": 30,
     "metadata": {},
     "output_type": "execute_result"
    }
   ],
   "source": [
    "current_date_time.strftime('%u')"
   ]
  },
  {
   "cell_type": "code",
   "execution_count": 31,
   "id": "4068a5f5",
   "metadata": {},
   "outputs": [
    {
     "data": {
      "text/plain": [
       "'3'"
      ]
     },
     "execution_count": 31,
     "metadata": {},
     "output_type": "execute_result"
    }
   ],
   "source": [
    "current_date_time.strftime('%w')"
   ]
  },
  {
   "cell_type": "code",
   "execution_count": 32,
   "id": "78868b67",
   "metadata": {},
   "outputs": [
    {
     "data": {
      "text/plain": [
       "'Wed Oct 12 12:48:58 2022'"
      ]
     },
     "execution_count": 32,
     "metadata": {},
     "output_type": "execute_result"
    }
   ],
   "source": [
    "current_date_time.strftime('%c')"
   ]
  },
  {
   "cell_type": "code",
   "execution_count": 33,
   "id": "d9f5e041",
   "metadata": {},
   "outputs": [
    {
     "name": "stdout",
     "output_type": "stream",
     "text": [
      "please provide your date in this format (dd/mm/yy)10/10/2022\n",
      "2022-10-10\n"
     ]
    }
   ],
   "source": [
    "strdate=input('please provide your date in this format (dd/mm/yy)')\n",
    "condate=datetime.datetime.strptime(strdate,'%d/%m/%Y').date()\n",
    "print(condate)"
   ]
  },
  {
   "cell_type": "code",
   "execution_count": 34,
   "id": "b7bb9250",
   "metadata": {},
   "outputs": [
    {
     "data": {
      "text/plain": [
       "datetime.datetime(2021, 5, 30, 12, 48, 58, 347796)"
      ]
     },
     "execution_count": 34,
     "metadata": {},
     "output_type": "execute_result"
    }
   ],
   "source": [
    "current_date_time - datetime.timedelta(days=500)"
   ]
  },
  {
   "cell_type": "code",
   "execution_count": 35,
   "id": "2b4dc5fc",
   "metadata": {},
   "outputs": [
    {
     "data": {
      "text/plain": [
       "datetime.datetime(2022, 9, 21, 16, 48, 58, 347796)"
      ]
     },
     "execution_count": 35,
     "metadata": {},
     "output_type": "execute_result"
    }
   ],
   "source": [
    "current_date_time - datetime.timedelta(hours=500)"
   ]
  },
  {
   "cell_type": "code",
   "execution_count": 36,
   "id": "bf9e69ec",
   "metadata": {},
   "outputs": [
    {
     "data": {
      "text/plain": [
       "datetime.timedelta(days=109)"
      ]
     },
     "execution_count": 36,
     "metadata": {},
     "output_type": "execute_result"
    }
   ],
   "source": [
    "currentdate-mydate"
   ]
  },
  {
   "cell_type": "code",
   "execution_count": 37,
   "id": "becb654d",
   "metadata": {},
   "outputs": [],
   "source": [
    "#write a program to return how many weeks and days a user have until an appointment from the  current date\n"
   ]
  },
  {
   "cell_type": "code",
   "execution_count": null,
   "id": "49da9c5f",
   "metadata": {},
   "outputs": [],
   "source": []
  },
  {
   "cell_type": "code",
   "execution_count": 43,
   "id": "61c61cf9",
   "metadata": {},
   "outputs": [
    {
     "name": "stdout",
     "output_type": "stream",
     "text": [
      "please provide your date in this format (dd/mm/yy):10/10/2022\n",
      "you have -1weeks and 5days until your appointment\n"
     ]
    }
   ],
   "source": [
    "strappdate=input('please provide your date in this format (dd/mm/yy):')\n",
    "appointmentdate=datetime.datetime.strptime(strappdate,'%d/%m/%Y').date()\n",
    "currentdate=datetime.date.today()\n",
    "outcome=appointmentdate-currentdate\n",
    "totalweeks=outcome.days // 7\n",
    "totaldays=outcome.days % 7\n",
    "print(f'you have {totalweeks}weeks and {totaldays}days until your appointment')"
   ]
  },
  {
   "cell_type": "code",
   "execution_count": null,
   "id": "c5c336c1",
   "metadata": {},
   "outputs": [],
   "source": []
  }
 ],
 "metadata": {
  "kernelspec": {
   "display_name": "Python 3 (ipykernel)",
   "language": "python",
   "name": "python3"
  },
  "language_info": {
   "codemirror_mode": {
    "name": "ipython",
    "version": 3
   },
   "file_extension": ".py",
   "mimetype": "text/x-python",
   "name": "python",
   "nbconvert_exporter": "python",
   "pygments_lexer": "ipython3",
   "version": "3.9.12"
  }
 },
 "nbformat": 4,
 "nbformat_minor": 5
}
