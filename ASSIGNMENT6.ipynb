{
 "cells": [
  {
   "cell_type": "code",
   "execution_count": 2,
   "id": "919999be",
   "metadata": {},
   "outputs": [
    {
     "name": "stdout",
     "output_type": "stream",
     "text": [
      "trekhondahas started\n",
      "None\n",
      "please choose a gear:1\n",
      "your gear has been changed to 1\n",
      "None\n",
      "Do you want to use the nitro:1\n",
      "nitro used\n",
      "None\n",
      "trekhondahas stopped\n",
      "None\n"
     ]
    }
   ],
   "source": [
    "class bike_simulation_game:#creating a class\n",
    "    def __init__(self,brand,model,colour,year,speed):\n",
    "        self.brand= brand\n",
    "        self.model= model\n",
    "        self.colour= colour\n",
    "        self.year= year\n",
    "        self.speed=speed \n",
    "    def start(self):\n",
    "        print(f'{self.brand}{self.model}has started')\n",
    "    def gear(self):\n",
    "        choice= int(input('please choose a gear:'))\n",
    "        if choice==1:\n",
    "            print('your gear has been changed to 1')\n",
    "        elif choice==2:\n",
    "            print('your gear has been changed to 2')\n",
    "        \n",
    "        elif choice==3:\n",
    "            print('your gear has been changed to 3')\n",
    "        \n",
    "        elif choice==4:\n",
    "            print('your gear has been changed to 4')\n",
    "        \n",
    "        elif choice==5:\n",
    "            print('your gear has been changed to 5')\n",
    "        \n",
    "        elif choice==6:\n",
    "            print('your gear has been changed to reverse')\n",
    "    def nitro(self):\n",
    "        choice=int(input('Do you want to use the nitro:'))\n",
    "        if choice==1:\n",
    "            print('nitro used')\n",
    "        else:\n",
    "            print('nitro not used')\n",
    "    def stop(self):\n",
    "        print(f'{self.brand}{self.model}has stopped')\n",
    "bike1=bike_simulation_game('trek','honda','red',2009,300)\n",
    "bike2=bike_simulation_game('specialized','duke','blue',2022,200)\n",
    "print(bike1.start())\n",
    "print(bike1.gear())\n",
    "print(bike1.nitro())\n",
    "print(bike1.stop())\n",
    "            \n",
    "        "
   ]
  },
  {
   "cell_type": "code",
   "execution_count": null,
   "id": "e5b1724a",
   "metadata": {},
   "outputs": [],
   "source": []
  }
 ],
 "metadata": {
  "kernelspec": {
   "display_name": "Python 3 (ipykernel)",
   "language": "python",
   "name": "python3"
  },
  "language_info": {
   "codemirror_mode": {
    "name": "ipython",
    "version": 3
   },
   "file_extension": ".py",
   "mimetype": "text/x-python",
   "name": "python",
   "nbconvert_exporter": "python",
   "pygments_lexer": "ipython3",
   "version": "3.9.12"
  }
 },
 "nbformat": 4,
 "nbformat_minor": 5
}
