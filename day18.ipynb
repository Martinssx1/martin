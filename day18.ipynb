{
 "cells": [
  {
   "cell_type": "code",
   "execution_count": 1,
   "id": "55baf737",
   "metadata": {},
   "outputs": [],
   "source": [
    "import mysql.connector"
   ]
  },
  {
   "cell_type": "code",
   "execution_count": 6,
   "id": "c42edff5",
   "metadata": {},
   "outputs": [],
   "source": [
    "mydb = mysql.connector.connect(\n",
    "        host = 'localhost',\n",
    "        user ='root',\n",
    "        password='RonaldoandMessi12',\n",
    "        database = 'alltimerecords'\n",
    ")\n",
    "mycursor = mydb.cursor()   "
   ]
  },
  {
   "cell_type": "code",
   "execution_count": 7,
   "id": "dd4ea8b0",
   "metadata": {},
   "outputs": [
    {
     "name": "stdout",
     "output_type": "stream",
     "text": [
      "Enter your password:Messi12\n",
      "enter yes to perform operationyes\n",
      "choose operation option [accept,display,search,update,delete,logout]:accept\n",
      "BOOK ID:101\n",
      "BOOK NAME:RICH DAD POOR DAD\n",
      "BOOK AUTHOR:me.bebe\n",
      "BOOK CATEGORY:motivational \n",
      "BOOK QUANTITY:12\n",
      "BOOK REGSITRATION NUMBER:1231\n",
      "Enter yes to perform operationyes\n",
      "choose operation option [accept,display,search,update,delete,logout]:logout\n",
      "loging out.....\n"
     ]
    }
   ],
   "source": [
    "class library:\n",
    "    def accept(self):\n",
    "        bookid = int(input('BOOK ID:'))\n",
    "        bookname = input ('BOOK NAME:')\n",
    "        bookauthor = input('BOOK AUTHOR:')\n",
    "        bookcategory = input('BOOK CATEGORY:')\n",
    "        quantity = int(input('BOOK QUANTITY:'))\n",
    "        ISBN = input('BOOK REGSITRATION NUMBER:')\n",
    "        \n",
    "        sql = 'insert into bookstore(bookid,bookname,bookauthor,bookcategory,quantity,ISBN) values(%s,%s,%s,%s,%s,%s)'\n",
    "        value = [(bookid,bookname,bookauthor,bookcategory,quantity,ISBN)]\n",
    "        mycursor.executemany(sql,value)\n",
    "        mydb.commit()\n",
    "        \n",
    "    def display(self):\n",
    "        mycursor.execute('select * from bookstore')\n",
    "        for x in mycursor:\n",
    "            print(x)\n",
    "            \n",
    "    def search(self):\n",
    "        id = input('Enter book id to search:')\n",
    "        mycursor.exexcute(f'select * from bookstore where bookid = {id}')\n",
    "        for x in mycursor:\n",
    "            print(x)\n",
    "            \n",
    "    def update(self):\n",
    "        id = input('Enter book id to update:')\n",
    "        column = input('Enter column to update:')\n",
    "        value = input('Enter new value:')\n",
    "        mycursor.exexcute(f'update bookstore set {column}=\"{value}\" where bookid = {id}')\n",
    "        mdb.commit()\n",
    "        for x in mycursor:\n",
    "            print(x)\n",
    "            \n",
    "    def delete(self):\n",
    "        id = input('Enter book id to delete:')\n",
    "        mycursor.exexcute(f'delete * from bookstore where bookid = {id}')\n",
    "        mydb.commit()\n",
    "        for x in mycursor:\n",
    "            print(x)\n",
    "            \n",
    "program = library()\n",
    "\n",
    "password='Messi12' \n",
    "passid = input('Enter your password:')\n",
    "if password == passid:\n",
    "    operation = input('enter yes to perform operation')\n",
    "    counter = 0\n",
    "    while operation =='yes':\n",
    "        option = input('choose operation option [accept,display,search,update,delete,logout]:')\n",
    "        if option == 'accept':\n",
    "            program.accept()\n",
    "        elif option =='display':\n",
    "            program.display()\n",
    "        elif option =='search':\n",
    "            program.search()\n",
    "        elif option =='update':\n",
    "            program.update()\n",
    "        elif option =='delete':\n",
    "            program.delete()\n",
    "        elif option ==  'logout':\n",
    "            print('loging out.....')\n",
    "            break\n",
    "        operation = input('Enter yes to perform operation')\n",
    "        counter +=1\n",
    "else:\n",
    "    print('invalid password')"
   ]
  },
  {
   "cell_type": "code",
   "execution_count": null,
   "id": "f3332b3c",
   "metadata": {},
   "outputs": [],
   "source": []
  }
 ],
 "metadata": {
  "kernelspec": {
   "display_name": "Python 3 (ipykernel)",
   "language": "python",
   "name": "python3"
  },
  "language_info": {
   "codemirror_mode": {
    "name": "ipython",
    "version": 3
   },
   "file_extension": ".py",
   "mimetype": "text/x-python",
   "name": "python",
   "nbconvert_exporter": "python",
   "pygments_lexer": "ipython3",
   "version": "3.9.12"
  }
 },
 "nbformat": 4,
 "nbformat_minor": 5
}
