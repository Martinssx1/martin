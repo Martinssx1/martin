{
 "cells": [
  {
   "cell_type": "code",
   "execution_count": 8,
   "id": "b2df78e6",
   "metadata": {},
   "outputs": [
    {
     "data": {
      "text/plain": [
       "'david simon'"
      ]
     },
     "execution_count": 8,
     "metadata": {},
     "output_type": "execute_result"
    }
   ],
   "source": [
    "firstname='david '\n",
    "firstname+ 'simon'"
   ]
  },
  {
   "cell_type": "code",
   "execution_count": 12,
   "id": "7be2e419",
   "metadata": {},
   "outputs": [
    {
     "data": {
      "text/plain": [
       "'david simon'"
      ]
     },
     "execution_count": 12,
     "metadata": {},
     "output_type": "execute_result"
    }
   ],
   "source": [
    "'david '+ 'simon'"
   ]
  },
  {
   "cell_type": "code",
   "execution_count": 14,
   "id": "4cbc856c",
   "metadata": {},
   "outputs": [
    {
     "data": {
      "text/plain": [
       "'couldnt have her'"
      ]
     },
     "execution_count": 14,
     "metadata": {},
     "output_type": "execute_result"
    }
   ],
   "source": [
    "'couldnt have her'"
   ]
  },
  {
   "cell_type": "code",
   "execution_count": 17,
   "id": "916bda3d",
   "metadata": {},
   "outputs": [
    {
     "data": {
      "text/plain": [
       "6"
      ]
     },
     "execution_count": 17,
     "metadata": {},
     "output_type": "execute_result"
    }
   ],
   "source": [
    "4|2"
   ]
  },
  {
   "cell_type": "code",
   "execution_count": 31,
   "id": "b500c81b",
   "metadata": {},
   "outputs": [
    {
     "data": {
      "text/plain": [
       "'m'"
      ]
     },
     "execution_count": 31,
     "metadata": {},
     "output_type": "execute_result"
    }
   ],
   "source": [
    "user=\"mr morale\"\n",
    "user[-9]"
   ]
  },
  {
   "cell_type": "code",
   "execution_count": 35,
   "id": "7f5bc847",
   "metadata": {},
   "outputs": [
    {
     "data": {
      "text/plain": [
       "'r mora'"
      ]
     },
     "execution_count": 35,
     "metadata": {},
     "output_type": "execute_result"
    }
   ],
   "source": [
    "user[1:7]"
   ]
  },
  {
   "cell_type": "code",
   "execution_count": 36,
   "id": "aa5472a0",
   "metadata": {},
   "outputs": [
    {
     "data": {
      "text/plain": [
       "3"
      ]
     },
     "execution_count": 36,
     "metadata": {},
     "output_type": "execute_result"
    }
   ],
   "source": [
    "len('fff')"
   ]
  },
  {
   "cell_type": "code",
   "execution_count": 39,
   "id": "3e439b85",
   "metadata": {},
   "outputs": [
    {
     "data": {
      "text/plain": [
       "9"
      ]
     },
     "execution_count": 39,
     "metadata": {},
     "output_type": "execute_result"
    }
   ],
   "source": [
    "len(user)"
   ]
  },
  {
   "cell_type": "code",
   "execution_count": 41,
   "id": "aec15ef8",
   "metadata": {},
   "outputs": [
    {
     "data": {
      "text/plain": [
       "10"
      ]
     },
     "execution_count": 41,
     "metadata": {},
     "output_type": "execute_result"
    }
   ],
   "source": [
    "player =[34,7,10,33]\n",
    "player[2]"
   ]
  },
  {
   "cell_type": "code",
   "execution_count": 42,
   "id": "88082bf8",
   "metadata": {},
   "outputs": [
    {
     "data": {
      "text/plain": [
       "[34, 7, 10, 5]"
      ]
     },
     "execution_count": 42,
     "metadata": {},
     "output_type": "execute_result"
    }
   ],
   "source": [
    "player[3]=5\n",
    "player\n"
   ]
  },
  {
   "cell_type": "code",
   "execution_count": 46,
   "id": "9f5333d6",
   "metadata": {},
   "outputs": [
    {
     "ename": "SyntaxError",
     "evalue": "invalid syntax (191491590.py, line 1)",
     "output_type": "error",
     "traceback": [
      "\u001b[1;36m  Input \u001b[1;32mIn [46]\u001b[1;36m\u001b[0m\n\u001b[1;33m    new layers = [90,23,12]\u001b[0m\n\u001b[1;37m        ^\u001b[0m\n\u001b[1;31mSyntaxError\u001b[0m\u001b[1;31m:\u001b[0m invalid syntax\n"
     ]
    }
   ],
   "source": [
    "new layers = [90,23,12]\n",
    "new layers + player"
   ]
  },
  {
   "cell_type": "code",
   "execution_count": 47,
   "id": "58c1c3aa",
   "metadata": {},
   "outputs": [
    {
     "name": "stdout",
     "output_type": "stream",
     "text": [
      "yeah\n"
     ]
    }
   ],
   "source": [
    "def function():\n",
    "    print('im the goat')\n",
    "    print('i never run')\n",
    "print('yeah')"
   ]
  },
  {
   "cell_type": "code",
   "execution_count": 48,
   "id": "104d63be",
   "metadata": {},
   "outputs": [
    {
     "name": "stdout",
     "output_type": "stream",
     "text": [
      "im the goat\n",
      "i never run\n"
     ]
    }
   ],
   "source": [
    "function()"
   ]
  },
  {
   "cell_type": "code",
   "execution_count": 51,
   "id": "5096b039",
   "metadata": {},
   "outputs": [],
   "source": [
    "def function1(x):\n",
    "    return 2*(x)"
   ]
  },
  {
   "cell_type": "code",
   "execution_count": 52,
   "id": "449de146",
   "metadata": {},
   "outputs": [],
   "source": [
    "a= function1(4)"
   ]
  },
  {
   "cell_type": "code",
   "execution_count": 53,
   "id": "312a40ae",
   "metadata": {},
   "outputs": [
    {
     "name": "stdout",
     "output_type": "stream",
     "text": [
      "8\n"
     ]
    }
   ],
   "source": [
    "print(a)"
   ]
  },
  {
   "cell_type": "code",
   "execution_count": 54,
   "id": "90db56a7",
   "metadata": {},
   "outputs": [],
   "source": [
    "def function2(x, y):\n",
    "    return(x+y)"
   ]
  },
  {
   "cell_type": "code",
   "execution_count": 56,
   "id": "2344b46a",
   "metadata": {},
   "outputs": [
    {
     "name": "stdout",
     "output_type": "stream",
     "text": [
      "7\n"
     ]
    }
   ],
   "source": [
    "b= function2(2, 5)\n",
    "print(b)"
   ]
  },
  {
   "cell_type": "code",
   "execution_count": null,
   "id": "c13f0cd5",
   "metadata": {},
   "outputs": [],
   "source": []
  }
 ],
 "metadata": {
  "kernelspec": {
   "display_name": "Python 3 (ipykernel)",
   "language": "python",
   "name": "python3"
  },
  "language_info": {
   "codemirror_mode": {
    "name": "ipython",
    "version": 3
   },
   "file_extension": ".py",
   "mimetype": "text/x-python",
   "name": "python",
   "nbconvert_exporter": "python",
   "pygments_lexer": "ipython3",
   "version": "3.9.12"
  }
 },
 "nbformat": 4,
 "nbformat_minor": 5
}
