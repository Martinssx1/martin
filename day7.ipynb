{
 "cells": [
  {
   "cell_type": "code",
   "execution_count": 1,
   "metadata": {},
   "outputs": [
    {
     "data": {
      "text/plain": [
       "248063644451341145494649182395412689744530581492654164321720600128173828125"
      ]
     },
     "execution_count": 1,
     "metadata": {},
     "output_type": "execute_result"
    }
   ],
   "source": [
    "(lambda x: x**x)(45){}"
   ]
  },
  {
   "cell_type": "code",
   "execution_count": 4,
   "metadata": {},
   "outputs": [
    {
     "name": "stdout",
     "output_type": "stream",
     "text": [
      "please provide your nameseyi\n"
     ]
    },
    {
     "data": {
      "text/plain": [
       "'seyidoes not start with an uppercase letter'"
      ]
     },
     "execution_count": 4,
     "metadata": {},
     "output_type": "execute_result"
    }
   ],
   "source": [
    "(lambda name :f'{name}starts with an uppercase letter' if name [0]==name[0].upper()else f'{name}does not start with an uppercase letter')(input('please provide your name'))"
   ]
  },
  {
   "cell_type": "code",
   "execution_count": 7,
   "metadata": {},
   "outputs": [
    {
     "name": "stdout",
     "output_type": "stream",
     "text": [
      "please provide your passwordEeee1\n"
     ]
    },
    {
     "data": {
      "text/plain": [
       "'Eeee1stars with an uppercase letter and a digit'"
      ]
     },
     "execution_count": 7,
     "metadata": {},
     "output_type": "execute_result"
    }
   ],
   "source": [
    "# Exercise 1\n",
    "# Write a lambda function to check if a given user password starts with an uppercase and end with a digit\n",
    "(lambda password : f'{password}stars with an uppercase letter and a digit'if (password[0]==password[0].upper())and (password[-1]=='0'or password[-1]=='1'or password [-1]=='2')else f'{password}does not start with an uppercase letter or end with a digit')(input('please provide your password'))\n",
    " "
   ]
  },
  {
   "cell_type": "code",
   "execution_count": 8,
   "metadata": {},
   "outputs": [
    {
     "name": "stdout",
     "output_type": "stream",
     "text": [
      "please provide a number5555555555\n"
     ]
    },
    {
     "data": {
      "text/plain": [
       "'5555555555is an odd number'"
      ]
     },
     "execution_count": 8,
     "metadata": {},
     "output_type": "execute_result"
    }
   ],
   "source": [
    "#Exercise 2\n",
    "#Write a lambda function to check if a given number is an odd or even nunber\n",
    "(lambda number : f'{number}is an even number'if number % 2==0 else f'{number}is an odd number')(int(input('please provide a number'))) "
   ]
  },
  {
   "cell_type": "code",
   "execution_count": 9,
   "metadata": {},
   "outputs": [],
   "source": [
    "#Map is used for modification of sequence like (string,tuple,list and range)\n",
    "#filter is used for selection or filtering of sequence like (string,tuple,list and range)"
   ]
  },
  {
   "cell_type": "code",
   "execution_count": 12,
   "metadata": {},
   "outputs": [
    {
     "name": "stdout",
     "output_type": "stream",
     "text": [
      "[1.0, 1.4142135623730951, 1.7320508075688772, 2.0, 2.23606797749979, 2.449489742783178, 2.6457513110645907, 2.8284271247461903, 3.0, 3.1622776601683795, 3.3166247903554, 3.4641016151377544, 3.605551275463989, 3.7416573867739413, 3.872983346207417, 4.0, 4.123105625617661, 4.242640687119285, 4.358898943540674, 4.47213595499958]\n"
     ]
    }
   ],
   "source": [
    "import math\n",
    "output =list(map(lambda x:math.sqrt(x),range(1,21)))\n",
    "print(output)"
   ]
  },
  {
   "cell_type": "code",
   "execution_count": 13,
   "metadata": {},
   "outputs": [
    {
     "name": "stdout",
     "output_type": "stream",
     "text": [
      "['BINGO', 'ROCKY', 'WATTY', 'PONY', 'BATTY']\n"
     ]
    }
   ],
   "source": [
    "list_dogs = ['bingo','rocky','watty','pony','batty']\n",
    "list_dogs = list(map(lambda x: x.upper(),list_dogs))\n",
    "print(list_dogs)"
   ]
  },
  {
   "cell_type": "code",
   "execution_count": 14,
   "metadata": {},
   "outputs": [
    {
     "name": "stdout",
     "output_type": "stream",
     "text": [
      "[1, 2, 3, 4, 5, 6, 7, 8, 9, 10]\n"
     ]
    }
   ],
   "source": [
    "output =list (filter(lambda x:x<=10,range(1,21)))\n",
    "print(output)"
   ]
  },
  {
   "cell_type": "code",
   "execution_count": 16,
   "metadata": {},
   "outputs": [
    {
     "name": "stdout",
     "output_type": "stream",
     "text": [
      "['BINGO', 'BATTY']\n"
     ]
    }
   ],
   "source": [
    "list_dogs =list(filter(lambda x:x.startswith('B'),list_dogs))\n",
    "print(list_dogs)"
   ]
  },
  {
   "cell_type": "code",
   "execution_count": null,
   "metadata": {},
   "outputs": [],
   "source": [
    "w"
   ]
  }
 ],
 "metadata": {
  "kernelspec": {
   "display_name": "Python 3 (ipykernel)",
   "language": "python",
   "name": "python3"
  },
  "language_info": {
   "codemirror_mode": {
    "name": "ipython",
    "version": 3
   },
   "file_extension": ".py",
   "mimetype": "text/x-python",
   "name": "python",
   "nbconvert_exporter": "python",
   "pygments_lexer": "ipython3",
   "version": "3.9.12"
  }
 },
 "nbformat": 4,
 "nbformat_minor": 4
}
