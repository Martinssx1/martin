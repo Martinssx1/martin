{
 "cells": [
  {
   "cell_type": "code",
   "execution_count": 7,
   "id": "a5d012fd",
   "metadata": {},
   "outputs": [
    {
     "name": "stdout",
     "output_type": "stream",
     "text": [
      "5004\n",
      "18.03\n",
      "underweight\n"
     ]
    }
   ],
   "source": [
    "weight=int(input(500));\n",
    "height=float(input(18.0));\n",
    "bmi=weight/float(18.0**2);\n",
    "if bmi <20.5:\n",
    "    print('underweight')\n",
    "elif bmi>=20.5 and bmi <=24:\n",
    "    print('normal')\n",
    "elif bmi>=24 and bmi <31:\n",
    "    print('overweight')\n",
    "else:\n",
    "    print('obesity')"
   ]
  },
  {
   "cell_type": "code",
   "execution_count": null,
   "id": "d0d4fb05",
   "metadata": {},
   "outputs": [],
   "source": []
  }
 ],
 "metadata": {
  "kernelspec": {
   "display_name": "Python 3 (ipykernel)",
   "language": "python",
   "name": "python3"
  },
  "language_info": {
   "codemirror_mode": {
    "name": "ipython",
    "version": 3
   },
   "file_extension": ".py",
   "mimetype": "text/x-python",
   "name": "python",
   "nbconvert_exporter": "python",
   "pygments_lexer": "ipython3",
   "version": "3.9.12"
  }
 },
 "nbformat": 4,
 "nbformat_minor": 5
}
