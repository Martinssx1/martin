{
 "cells": [
  {
   "cell_type": "code",
   "execution_count": 1,
   "metadata": {},
   "outputs": [],
   "source": [
    "#ITERABLE OBJECT"
   ]
  },
  {
   "cell_type": "code",
   "execution_count": 2,
   "metadata": {},
   "outputs": [],
   "source": [
    "# TUPLE\n",
    "# TUPLE IS UNCHANGEABLE \n",
    "# TUBLE MUST BE ORDERED\n",
    "# TUBLE IS DENOTED WITH ( )\n",
    "# SINCE WE HAVE A TUPLE HOLDING MULTIPLE VALUES TO ACCESS AN INDIVIDUAL VALUE WE USE THE INDEX LOCATION(0,-1)"
   ]
  },
  {
   "cell_type": "code",
   "execution_count": 3,
   "metadata": {},
   "outputs": [
    {
     "name": "stdout",
     "output_type": "stream",
     "text": [
      "<class 'tuple'>\n"
     ]
    }
   ],
   "source": [
    "numbers = (7,8,10,5,11,7,14,15,18,7,19,20,25,36,7,85,4)\n",
    "print(type(numbers))"
   ]
  },
  {
   "cell_type": "code",
   "execution_count": 4,
   "metadata": {},
   "outputs": [
    {
     "name": "stdout",
     "output_type": "stream",
     "text": [
      "18\n"
     ]
    }
   ],
   "source": [
    "print(numbers[8])"
   ]
  },
  {
   "cell_type": "code",
   "execution_count": 5,
   "metadata": {},
   "outputs": [
    {
     "name": "stdout",
     "output_type": "stream",
     "text": [
      "18\n"
     ]
    }
   ],
   "source": [
    "print(numbers[-9])"
   ]
  },
  {
   "cell_type": "code",
   "execution_count": 9,
   "metadata": {},
   "outputs": [
    {
     "name": "stdout",
     "output_type": "stream",
     "text": [
      "(11, 7, 14, 15, 18, 7, 19)\n"
     ]
    }
   ],
   "source": [
    "print(numbers[4:11])"
   ]
  },
  {
   "cell_type": "code",
   "execution_count": 10,
   "metadata": {},
   "outputs": [
    {
     "name": "stdout",
     "output_type": "stream",
     "text": [
      "4\n"
     ]
    }
   ],
   "source": [
    "print(numbers.count(7))"
   ]
  },
  {
   "cell_type": "code",
   "execution_count": 11,
   "metadata": {},
   "outputs": [
    {
     "name": "stdout",
     "output_type": "stream",
     "text": [
      "15\n"
     ]
    }
   ],
   "source": [
    "print(numbers.index(85))"
   ]
  },
  {
   "cell_type": "code",
   "execution_count": 12,
   "metadata": {},
   "outputs": [
    {
     "name": "stdout",
     "output_type": "stream",
     "text": [
      "False\n"
     ]
    }
   ],
   "source": [
    "print(100 in numbers)"
   ]
  },
  {
   "cell_type": "code",
   "execution_count": 13,
   "metadata": {},
   "outputs": [],
   "source": [
    "# LIST\n",
    "# LIST IS CHANGEABLE \n",
    "# LIST CAN BE ORDERED OR UNORDERED\n",
    "# LIST IS DENOTED WITH [ ]\n",
    "# SINCE WE HAVE A LIST HOLDING MULTIPLE VALUES TO ACCESS AN INDIVIDUAL VALUE WE USE THE INDEX LOCATION(0,-1)"
   ]
  },
  {
   "cell_type": "code",
   "execution_count": 14,
   "metadata": {},
   "outputs": [],
   "source": [
    "items =['Cup','Plate','Apple','Spoon','Lemon']"
   ]
  },
  {
   "cell_type": "code",
   "execution_count": 15,
   "metadata": {},
   "outputs": [
    {
     "name": "stdout",
     "output_type": "stream",
     "text": [
      "['Cup', 'Plate', 'Apple', 'Spoon', 'Lemon', 'Cherry']\n"
     ]
    }
   ],
   "source": [
    "items.append('Cherry')#Append will add the new value at the end of the list\n",
    "print(items)"
   ]
  },
  {
   "cell_type": "code",
   "execution_count": 16,
   "metadata": {},
   "outputs": [
    {
     "name": "stdout",
     "output_type": "stream",
     "text": [
      "['Cup', 'Plate', 'Apple', 'Spoon', 'Lemon', 'Cherry', 'Banana', 'Cup', 'Strawberry', 'Packer', 'Bag']\n"
     ]
    }
   ],
   "source": [
    "store = ['Banana','Cup','Strawberry','Packer','Bag']\n",
    "items.extend(store)#Extend will add all the values from another list to our cureent list\n",
    "print(items)"
   ]
  },
  {
   "cell_type": "code",
   "execution_count": 17,
   "metadata": {},
   "outputs": [
    {
     "name": "stdout",
     "output_type": "stream",
     "text": [
      "['Cup', 'Plate', 'Apple', 'Spoon', 'Lemon', 'Broom', 'Cherry', 'Banana', 'Cup', 'Strawberry', 'Packer', 'Bag']\n"
     ]
    }
   ],
   "source": [
    "items.insert(5,'Broom')#Insert will add the new value at the specified index location\n",
    "print(items)"
   ]
  },
  {
   "cell_type": "code",
   "execution_count": 18,
   "metadata": {},
   "outputs": [
    {
     "name": "stdout",
     "output_type": "stream",
     "text": [
      "['Apple', 'Bag', 'Banana', 'Broom', 'Cherry', 'Cup', 'Cup', 'Lemon', 'Packer', 'Plate', 'Spoon', 'Strawberry']\n"
     ]
    }
   ],
   "source": [
    "items.sort()#Sort will arrange your values in acsending order\n",
    "print(items)"
   ]
  },
  {
   "cell_type": "code",
   "execution_count": 19,
   "metadata": {},
   "outputs": [
    {
     "name": "stdout",
     "output_type": "stream",
     "text": [
      "['Apple', 'Bag', 'Banana', 'Broom', 'Cherry', 'Cup', 'Cup', 'Lemon', 'Packer', 'Plate', 'Spoon']\n"
     ]
    }
   ],
   "source": [
    "items.pop()#pop will remove the value at end of the list\n",
    "print(items)"
   ]
  },
  {
   "cell_type": "code",
   "execution_count": 20,
   "metadata": {},
   "outputs": [
    {
     "name": "stdout",
     "output_type": "stream",
     "text": [
      "['Apple', 'Bag', 'Banana', 'Broom', 'Cherry', 'Cup', 'Lemon', 'Packer', 'Plate', 'Spoon']\n"
     ]
    }
   ],
   "source": [
    "items.pop(5)\n",
    "print(items)"
   ]
  },
  {
   "cell_type": "code",
   "execution_count": 21,
   "metadata": {},
   "outputs": [
    {
     "name": "stdout",
     "output_type": "stream",
     "text": [
      "['Apple', 'Bag', 'Banana', 'Broom', 'Cherry', 'Lemon', 'Packer', 'Plate', 'Spoon']\n"
     ]
    }
   ],
   "source": [
    "items.remove('Cup')#remove will drop the specified value\n",
    "print(items)"
   ]
  },
  {
   "cell_type": "code",
   "execution_count": 22,
   "metadata": {},
   "outputs": [
    {
     "name": "stdout",
     "output_type": "stream",
     "text": [
      "['Spoon', 'Plate', 'Packer', 'Lemon', 'Cherry', 'Broom', 'Banana', 'Bag', 'Apple']\n"
     ]
    }
   ],
   "source": [
    "items.reverse()\n",
    "print(items)"
   ]
  },
  {
   "cell_type": "code",
   "execution_count": 23,
   "metadata": {},
   "outputs": [
    {
     "name": "stdout",
     "output_type": "stream",
     "text": [
      "['Spoon', 'Plate', 'Packer', 'Lemon', 'Cherry', 'Broom', 'Banana', 'Bag', 'Apple']\n"
     ]
    }
   ],
   "source": [
    "records= items.copy()\n",
    "print(records)"
   ]
  },
  {
   "cell_type": "code",
   "execution_count": 24,
   "metadata": {},
   "outputs": [
    {
     "name": "stdout",
     "output_type": "stream",
     "text": [
      "[]\n"
     ]
    }
   ],
   "source": [
    "records.clear()#clear will remove all values in the list\n",
    "print(records)"
   ]
  },
  {
   "cell_type": "code",
   "execution_count": 25,
   "metadata": {},
   "outputs": [
    {
     "ename": "NameError",
     "evalue": "name 'records' is not defined",
     "output_type": "error",
     "traceback": [
      "\u001b[1;31m---------------------------------------------------------------------------\u001b[0m",
      "\u001b[1;31mNameError\u001b[0m                                 Traceback (most recent call last)",
      "\u001b[1;32mc:\\Users\\Simeon\\Documents\\pythonprogramm\\pythonclass0919\\day3.ipynb Cell 22\u001b[0m in \u001b[0;36m<cell line: 2>\u001b[1;34m()\u001b[0m\n\u001b[0;32m      <a href='vscode-notebook-cell:/c%3A/Users/Simeon/Documents/pythonprogramm/pythonclass0919/day3.ipynb#X30sZmlsZQ%3D%3D?line=0'>1</a>\u001b[0m \u001b[39mdel\u001b[39;00m(records)\n\u001b[1;32m----> <a href='vscode-notebook-cell:/c%3A/Users/Simeon/Documents/pythonprogramm/pythonclass0919/day3.ipynb#X30sZmlsZQ%3D%3D?line=1'>2</a>\u001b[0m \u001b[39mprint\u001b[39m(records)\n",
      "\u001b[1;31mNameError\u001b[0m: name 'records' is not defined"
     ]
    }
   ],
   "source": [
    "del(records)\n",
    "print(records)\n"
   ]
  },
  {
   "cell_type": "code",
   "execution_count": 27,
   "metadata": {},
   "outputs": [
    {
     "name": "stdout",
     "output_type": "stream",
     "text": [
      "Ade\n"
     ]
    }
   ],
   "source": [
    "records = {\n",
    "    'Name':'Ade',\n",
    "    'Gender':'Male',\n",
    "    'Age':45,\n",
    "    'Height':2.00,\n",
    "    'Weigth':75\n",
    "}\n",
    "print(records['Name'])"
   ]
  },
  {
   "cell_type": "code",
   "execution_count": 28,
   "metadata": {},
   "outputs": [
    {
     "data": {
      "text/plain": [
       "dict_keys(['Name', 'Gender', 'Age', 'Height', 'Weigth'])"
      ]
     },
     "execution_count": 28,
     "metadata": {},
     "output_type": "execute_result"
    }
   ],
   "source": [
    "records.keys()"
   ]
  },
  {
   "cell_type": "code",
   "execution_count": 29,
   "metadata": {},
   "outputs": [
    {
     "data": {
      "text/plain": [
       "dict_values(['Ade', 'Male', 45, 2.0, 75])"
      ]
     },
     "execution_count": 29,
     "metadata": {},
     "output_type": "execute_result"
    }
   ],
   "source": [
    "records.values()"
   ]
  },
  {
   "cell_type": "code",
   "execution_count": 30,
   "metadata": {},
   "outputs": [
    {
     "data": {
      "text/plain": [
       "dict_items([('Name', 'Ade'), ('Gender', 'Male'), ('Age', 45), ('Height', 2.0), ('Weigth', 75)])"
      ]
     },
     "execution_count": 30,
     "metadata": {},
     "output_type": "execute_result"
    }
   ],
   "source": [
    "records.items()"
   ]
  },
  {
   "cell_type": "code",
   "execution_count": 33,
   "metadata": {},
   "outputs": [
    {
     "name": "stdout",
     "output_type": "stream",
     "text": [
      "{'Name': 'Ade', 'Gender': 'Male', 'Age': 45, 'Height': 2.0, 'Weigth': 80}\n"
     ]
    }
   ],
   "source": [
    "r = {'Weigth':80}\n",
    "records.update(r)\n",
    "print(records)"
   ]
  },
  {
   "cell_type": "code",
   "execution_count": 34,
   "metadata": {},
   "outputs": [
    {
     "data": {
      "text/plain": [
       "'Ojo'"
      ]
     },
     "execution_count": 34,
     "metadata": {},
     "output_type": "execute_result"
    }
   ],
   "source": [
    "details={\n",
    "    'names':['Ade','Ojo','Jane'],\n",
    "    'age':[40,30,28]\n",
    "}\n",
    "details['names'][1]"
   ]
  },
  {
   "cell_type": "code",
   "execution_count": null,
   "metadata": {},
   "outputs": [],
   "source": []
  }
 ],
 "metadata": {
  "kernelspec": {
   "display_name": "Python 3 (ipykernel)",
   "language": "python",
   "name": "python3"
  },
  "language_info": {
   "codemirror_mode": {
    "name": "ipython",
    "version": 3
   },
   "file_extension": ".py",
   "mimetype": "text/x-python",
   "name": "python",
   "nbconvert_exporter": "python",
   "pygments_lexer": "ipython3",
   "version": "3.9.12"
  },
  "vscode": {
   "interpreter": {
    "hash": "97a318a1c10ea3cad32b5f740e8bef65bce9a717407c951d39899fa160feabd9"
   }
  }
 },
 "nbformat": 4,
 "nbformat_minor": 2
}
