{
 "cells": [
  {
   "cell_type": "code",
   "execution_count": 88,
   "id": "9cb48bab",
   "metadata": {},
   "outputs": [
    {
     "name": "stdout",
     "output_type": "stream",
     "text": [
      "he may work anywhere\n"
     ]
    }
   ],
   "source": [
    "age = 30\n",
    "sex = 'M'\n",
    "ms='Y'\n",
    "if (sex) =='F':\n",
    "    print('employee will only work in urban areas')\n",
    "elif (sex)=='M' or (age)== range(20,40):\n",
    "    print('he may work anywhere')\n",
    "elif (sex)=='M' or (age)==range(40,60):\n",
    "    print('he will work in uran areas')\n",
    "else:\n",
    "    print('ERROR')\n",
    "\n"
   ]
  },
  {
   "cell_type": "code",
   "execution_count": null,
   "id": "0b00df4d",
   "metadata": {},
   "outputs": [],
   "source": [
    "classes held = 100\n",
    "classes attended=75"
   ]
  },
  {
   "cell_type": "code",
   "execution_count": 93,
   "id": "74c1d727",
   "metadata": {},
   "outputs": [
    {
     "name": "stdout",
     "output_type": "stream",
     "text": [
      "john is the oldest\n"
     ]
    }
   ],
   "source": [
    "john= 30\n",
    "diwa=19\n",
    "chima=21\n",
    "if (john)>(chima)>(diwa):\n",
    "    print('john is the oldest')"
   ]
  },
  {
   "cell_type": "code",
   "execution_count": 91,
   "id": "b8f4f04c",
   "metadata": {},
   "outputs": [
    {
     "name": "stdout",
     "output_type": "stream",
     "text": [
      "diwa is the youngest\n"
     ]
    }
   ],
   "source": [
    "john= 30\n",
    "diwa=19\n",
    "chima=21\n",
    "if (diwa)<(chima)<(john):\n",
    "    print('diwa is the youngest')"
   ]
  },
  {
   "cell_type": "code",
   "execution_count": 94,
   "id": "f31f1ef5",
   "metadata": {},
   "outputs": [
    {
     "name": "stdout",
     "output_type": "stream",
     "text": [
      "70 is greater is than 50\n"
     ]
    }
   ],
   "source": [
    "dom=50\n",
    "rom=70\n",
    "if (rom) >(dom) :\n",
    "    print('70 is greater is than 50')\n",
    "    "
   ]
  },
  {
   "cell_type": "code",
   "execution_count": null,
   "id": "bf5539e0",
   "metadata": {},
   "outputs": [],
   "source": []
  }
 ],
 "metadata": {
  "kernelspec": {
   "display_name": "Python 3 (ipykernel)",
   "language": "python",
   "name": "python3"
  },
  "language_info": {
   "codemirror_mode": {
    "name": "ipython",
    "version": 3
   },
   "file_extension": ".py",
   "mimetype": "text/x-python",
   "name": "python",
   "nbconvert_exporter": "python",
   "pygments_lexer": "ipython3",
   "version": "3.9.12"
  }
 },
 "nbformat": 4,
 "nbformat_minor": 5
}
