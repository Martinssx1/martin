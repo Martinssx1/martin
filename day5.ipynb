{
 "cells": [
  {
   "cell_type": "code",
   "execution_count": 1,
   "id": "e9d317cd",
   "metadata": {},
   "outputs": [
    {
     "name": "stdout",
     "output_type": "stream",
     "text": [
      "THE PLATES WILL STILL SHIFT\n",
      "AND THE CLOUDS WILL STILL SPEW\n",
      "THE SUN WILL SLOWLY RISE\n",
      "AND THE MOON WILL FOLLOW TOO\n"
     ]
    }
   ],
   "source": [
    "word1 = '''the plates will still shift\n",
    "and the clouds will still spew\n",
    "the sun will slowly rise\n",
    "and the moon will follow too'''\n",
    "print(word1.upper())"
   ]
  },
  {
   "cell_type": "code",
   "execution_count": 2,
   "id": "ac6e07ba",
   "metadata": {},
   "outputs": [
    {
     "name": "stdout",
     "output_type": "stream",
     "text": [
      "MY NAME IS JAMES\n"
     ]
    }
   ],
   "source": [
    "print('MY NAME IS JAMES')"
   ]
  },
  {
   "cell_type": "code",
   "execution_count": 3,
   "id": "49b848c5",
   "metadata": {},
   "outputs": [
    {
     "name": "stdout",
     "output_type": "stream",
     "text": [
      "i'm from a well known village with good culture in kogi state\n"
     ]
    }
   ],
   "source": [
    "state='i\\'m from a well known village with good culture in kogi state'\n",
    "print(state)"
   ]
  },
  {
   "cell_type": "code",
   "execution_count": 4,
   "id": "96a60709",
   "metadata": {},
   "outputs": [
    {
     "name": "stdout",
     "output_type": "stream",
     "text": [
      "458.0\n"
     ]
    }
   ],
   "source": [
    "num=float(458)\n",
    "print(num)"
   ]
  },
  {
   "cell_type": "code",
   "execution_count": 10,
   "id": "e87ea0df",
   "metadata": {},
   "outputs": [
    {
     "name": "stdout",
     "output_type": "stream",
     "text": [
      "enter first namechima\n",
      "enter second namemartins\n",
      "enter third nameada\n"
     ]
    }
   ],
   "source": [
    "a=input( 'enter first name')\n",
    "b=input( 'enter second name')\n",
    "c=input( 'enter third name' )"
   ]
  },
  {
   "cell_type": "code",
   "execution_count": null,
   "id": "5049b42a",
   "metadata": {},
   "outputs": [],
   "source": []
  },
  {
   "cell_type": "code",
   "execution_count": 12,
   "id": "3117c115",
   "metadata": {},
   "outputs": [
    {
     "name": "stdout",
     "output_type": "stream",
     "text": [
      "enter first nameada\n",
      "enter second namegas\n",
      "enter third namedes\n"
     ]
    }
   ],
   "source": [
    "quantity=3\n",
    "totalmoney=1000\n",
    "price=450\n",
    "statement='i have 'totalmoney'"
   ]
  },
  {
   "cell_type": "code",
   "execution_count": 2,
   "id": "47671967",
   "metadata": {},
   "outputs": [
    {
     "name": "stdout",
     "output_type": "stream",
     "text": [
      "983.4026241170732\n"
     ]
    }
   ],
   "source": [
    "#A=p(1+r/n)**nt\n",
    "t=3\n",
    "p=5000\n",
    "r=6/100\n",
    "n=12\n",
    "ci=p*(1+r/n)**(n*t)-p\n",
    "print(ci)"
   ]
  },
  {
   "cell_type": "code",
   "execution_count": 9,
   "id": "48abfb9e",
   "metadata": {},
   "outputs": [
    {
     "name": "stdout",
     "output_type": "stream",
     "text": [
      "the total amount after three year is 701006.25\n",
      "their saving is 1006.25greater than the estimated amount of 700000\n"
     ]
    }
   ],
   "source": [
    "estimate=700000\n",
    "principal=550000\n",
    "firstdeposit=25000\n",
    "seconddeposit=35000\n",
    "interestrate=5/100\n",
    "\n",
    "firstyear=(principal * intrestrate)+principal +firstdeposit\n",
    "secondyear=(firstyear*interestrate)+firstyear+seconddeposit\n",
    "thirdyear=(secondyear*interestrate)+secondyear\n",
    "print(f'the total amount after three year is {thirdyear}')\n",
    "print(f'their saving is {thirdyear -estimate}greater than the estimated amount of {estimate}')\n"
   ]
  },
  {
   "cell_type": "code",
   "execution_count": 16,
   "id": "9112e8ff",
   "metadata": {},
   "outputs": [
    {
     "name": "stdout",
     "output_type": "stream",
     "text": [
      "pppp\n",
      "yyyy\n",
      "tttt\n",
      "hhhh\n",
      "oooo\n",
      "nnnn\n"
     ]
    }
   ],
   "source": [
    "word='python'\n",
    "for x in word:\n",
    "    print(x*4)"
   ]
  },
  {
   "cell_type": "code",
   "execution_count": 18,
   "id": "dcec4e86",
   "metadata": {},
   "outputs": [
    {
     "name": "stdout",
     "output_type": "stream",
     "text": [
      "pppp/yyyy/tttt/hhhh/oooo/nnnn/"
     ]
    }
   ],
   "source": [
    "word='python'\n",
    "for x in word:\n",
    "    print(x * 4,end='/')"
   ]
  },
  {
   "cell_type": "code",
   "execution_count": 19,
   "id": "d8ebb734",
   "metadata": {},
   "outputs": [
    {
     "name": "stdout",
     "output_type": "stream",
     "text": [
      "dear adethis is for your kind reminder we are starting on monday\n",
      "dear ojothis is for your kind reminder we are starting on monday\n",
      "dear emekathis is for your kind reminder we are starting on monday\n",
      "dear samthis is for your kind reminder we are starting on monday\n",
      "dear danthis is for your kind reminder we are starting on monday\n"
     ]
    }
   ],
   "source": [
    "names=['ade','ojo','emeka', 'sam','dan']\n",
    "for name in names:\n",
    "    print(f'dear {name}this is for your kind reminder we are starting on monday')"
   ]
  },
  {
   "cell_type": "code",
   "execution_count": 23,
   "id": "8cc66b91",
   "metadata": {},
   "outputs": [
    {
     "name": "stdout",
     "output_type": "stream",
     "text": [
      "RREG001/45:::{'Name': 'Matthew oba', 'math': 85, 'english': 75, 'physicsscore': 60, 'chemistry': 80}\n",
      "reg002/45:::{'name': 'janet', 'math': 80, 'english': 66, 'physics': 50, 'chemistry': 80}\n",
      "reg003/45:::{'name': 'john', 'math': 77, 'english': 34, 'physics': 45, 'chemistry': 90}\n"
     ]
    }
   ],
   "source": [
    "jamb_database= {\n",
    "    'RREG001/45':{'Name':'Matthew oba','math':85,'english':75,\n",
    "    'physicsscore':60, 'chemistry':80},\n",
    "    'reg002/45':{'name':'janet','math':80,'english':66,\n",
    "    'physics':50,'chemistry':80},\n",
    "    'reg003/45':{'name':'john','math':77,'english':34,\n",
    "    'physics':45,'chemistry':90}\n",
    "    }\n",
    "for key,value in jamb_database.items():\n",
    "    print(f'{key}:::{value}')   \n",
    "                 \n",
    "    "
   ]
  },
  {
   "cell_type": "code",
   "execution_count": 29,
   "id": "4811c3ac",
   "metadata": {},
   "outputs": [
    {
     "name": "stdout",
     "output_type": "stream",
     "text": [
      "PLEASE PROVIDE YOUR REGISTRATION NUMBER:RREG001/45\n",
      "congratulations your jamb details are as follows {'Name': 'Matthew oba', 'math': 85, 'english': 75, 'physicsscore': 60, 'chemistry': 80}\n"
     ]
    }
   ],
   "source": [
    "jamb_database= {\n",
    "    'RREG001/45':{'Name':'Matthew oba','math':85,'english':75,\n",
    "    'physicsscore':60, 'chemistry':80},\n",
    "    'reg002/45':{'name':'janet','math':80,'english':66,\n",
    "    'physics':50,'chemistry':80},\n",
    "    'reg003/45':{'name':'john','math':77,'english':34,\n",
    "    'physics':45,'chemistry':90}\n",
    "    }\n",
    "registration_number=input('PLEASE PROVIDE YOUR REGISTRATION NUMBER:')\n",
    "for key in jamb_database:\n",
    "    if key ==registration_number:\n",
    "        print(f'congratulations your jamb details are as follows {jamb_database[key]}')\n",
    "        break\n",
    "else:\n",
    "    print('RECORD NOT FOUND')"
   ]
  },
  {
   "cell_type": "code",
   "execution_count": 32,
   "id": "3c4b0a74",
   "metadata": {},
   "outputs": [
    {
     "name": "stdout",
     "output_type": "stream",
     "text": [
      "please provide your guess within the range of 1 ans 20:7\n",
      "guess too low\n",
      "please provide your guess within the range of 1 ans 20:10\n",
      "guess too high\n",
      "please provide your guess within the range of 1 ans 20:9\n",
      "guess too high\n",
      "sorry you lost\n"
     ]
    }
   ],
   "source": [
    "import random\n",
    "correct_guess =random.randint(1,20)\n",
    "guess_limit=3\n",
    "guess_count=0\n",
    "while guess_count < guess_limit:\n",
    "    guess=int(input('please provide your guess within the range of 1 ans 20:'))\n",
    "    guess_count=guess_count + 1\n",
    "    if guess>correct_guess:\n",
    "        print('guess too high')\n",
    "    elif guess < correct_guess:\n",
    "        print('guess too low')\n",
    "    elif guess ==correct_guess:\n",
    "        print('congratulation you guessed correctly')\n",
    "        break\n",
    "else:\n",
    "    print('sorry you lost')\n",
    "    \n"
   ]
  },
  {
   "cell_type": "code",
   "execution_count": null,
   "id": "daf1354a",
   "metadata": {},
   "outputs": [],
   "source": []
  }
 ],
 "metadata": {
  "kernelspec": {
   "display_name": "Python 3 (ipykernel)",
   "language": "python",
   "name": "python3"
  },
  "language_info": {
   "codemirror_mode": {
    "name": "ipython",
    "version": 3
   },
   "file_extension": ".py",
   "mimetype": "text/x-python",
   "name": "python",
   "nbconvert_exporter": "python",
   "pygments_lexer": "ipython3",
   "version": "3.9.12"
  }
 },
 "nbformat": 4,
 "nbformat_minor": 5
}
