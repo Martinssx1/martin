{
 "cells": [
  {
   "cell_type": "code",
   "execution_count": 1,
   "id": "031d7007",
   "metadata": {},
   "outputs": [],
   "source": [
    "#class and object\n",
    "class person:\n",
    "    attr1 = \"james\"\n",
    "    attr2 = \"male\"\n",
    "person1 = person()"
   ]
  },
  {
   "cell_type": "code",
   "execution_count": 2,
   "id": "4ddb941c",
   "metadata": {},
   "outputs": [
    {
     "data": {
      "text/plain": [
       "'james'"
      ]
     },
     "execution_count": 2,
     "metadata": {},
     "output_type": "execute_result"
    }
   ],
   "source": [
    "person1.attr1"
   ]
  },
  {
   "cell_type": "code",
   "execution_count": 3,
   "id": "4dca4547",
   "metadata": {},
   "outputs": [],
   "source": [
    "class person:\n",
    "    attr1 =\"james\"\n",
    "    attr2 = \"male\"\n",
    "    def details(self):\n",
    "        print(f'my name is {self.attr1}')\n",
    "person1 = person()"
   ]
  },
  {
   "cell_type": "code",
   "execution_count": 4,
   "id": "25e96680",
   "metadata": {},
   "outputs": [
    {
     "name": "stdout",
     "output_type": "stream",
     "text": [
      "my name is james\n"
     ]
    }
   ],
   "source": [
    "person1.details()"
   ]
  },
  {
   "cell_type": "code",
   "execution_count": 7,
   "id": "e4984ee4",
   "metadata": {},
   "outputs": [
    {
     "name": "stdout",
     "output_type": "stream",
     "text": [
      "enter your password:admin101\n",
      "Enter yes to perform transactionyes\n",
      "choose your operation [deposit,transfer,airtime,data,checkbalance,logout]:transfer\n",
      "enter transfer amount:4000\n",
      "enter destination account number:144444566878\n",
      "enter bank name:opay\n",
      "insufficent funds\n",
      "choose your operation [deposit,transfer,airtime,data,checkbalance,logout]:deposit\n",
      "enter deposit amount:900000000000000000\n",
      "transaction successful.........\n",
      "choose your operation [deposit,transfer,airtime,data,checkbalance,logout]:airtime\n",
      "enter airtime amount:400000\n",
      "enter destination phone number:08032070854\n",
      "enter network provider:mtn\n",
      "transaction successful........\n",
      "choose your operation [deposit,transfer,airtime,data,checkbalance,logout]:logout\n",
      "loging out.........\n"
     ]
    }
   ],
   "source": [
    "#USING CLASS AND OBJECT WRITE A PROGRAM TO DEPOSIT,TRANSFER,BUY AIRTIME,BUY DATA AND CHECK BALANCE\n",
    "class moniapp:\n",
    "    def __init__(self):\n",
    "        self.balance =0\n",
    "    def deposit(self):\n",
    "        amount = float(input('enter deposit amount:'))\n",
    "        self.balance=self.balance + amount\n",
    "        print('transaction successful.........')\n",
    "        \n",
    "    def transfer(self):\n",
    "        amount =float(input('enter transfer amount:'))\n",
    "        destination =input('enter destination account number:')\n",
    "        bank =input('enter bank name:')\n",
    "        if amount >self.balance :\n",
    "            print('insufficent funds')\n",
    "        elif amount ==0 :\n",
    "            print('amount cannot be 0')\n",
    "            \n",
    "        else:\n",
    "            self.balance =self.balance - amount\n",
    "            print('transaction successful......')\n",
    "    def airtime(self):\n",
    "        amount =float(input('enter airtime amount:'))\n",
    "        destination =input('enter destination phone number:')\n",
    "        provider=input('enter network provider:')\n",
    "        if amount >self.balance :\n",
    "            print('insufficent funds')\n",
    "        elif amount ==0 :\n",
    "            print('amount cannot be 0')\n",
    "            \n",
    "        else:\n",
    "            self.balance -amount\n",
    "            print('transaction successful........')\n",
    "    def data(self):\n",
    "        amount =float(input('enter data amount:'))\n",
    "        destination =input('enter destination account number:')\n",
    "        provider=input('enter network provider:')\n",
    "        if amount >self.balance :\n",
    "            print('insufficent funds')\n",
    "        elif amount ==0 :\n",
    "            print('amount cannot be 0')\n",
    "            \n",
    "             \n",
    "        else:\n",
    "            self.balance -amount\n",
    "            print('transaction successful........')\n",
    "    def checkbalance(self):\n",
    "        print(f'Avaiable Balance is{self.balance}')\n",
    "app =moniapp()\n",
    "passid = 'admin101'\n",
    "password = input('enter your password:')\n",
    "if password ==passid:\n",
    "    counter =0\n",
    "    operation = input('Enter yes to perform transaction')\n",
    "    while operation == 'yes':\n",
    "        option =input('choose your operation [deposit,transfer,airtime,data,checkbalance,logout]:')\n",
    "        if option =='deposit':\n",
    "            app.deposit()\n",
    "        elif option == 'transfer':\n",
    "            app.transfer()\n",
    "        elif option == 'airtime' :\n",
    "            app.airtime()\n",
    "        elif option == 'data':\n",
    "            app.data()\n",
    "        elif option == 'checkbalance':\n",
    "            app.checkbalance()\n",
    "        elif option =='logout':\n",
    "            print('loging out.........')\n",
    "            break\n",
    "else:\n",
    "    print('invalid password')\n",
    "    \n",
    "            \n",
    "            "
   ]
  },
  {
   "cell_type": "code",
   "execution_count": null,
   "id": "0bf4dbc9",
   "metadata": {},
   "outputs": [],
   "source": []
  },
  {
   "cell_type": "code",
   "execution_count": null,
   "id": "4d8f455e",
   "metadata": {},
   "outputs": [],
   "source": []
  }
 ],
 "metadata": {
  "kernelspec": {
   "display_name": "Python 3 (ipykernel)",
   "language": "python",
   "name": "python3"
  },
  "language_info": {
   "codemirror_mode": {
    "name": "ipython",
    "version": 3
   },
   "file_extension": ".py",
   "mimetype": "text/x-python",
   "name": "python",
   "nbconvert_exporter": "python",
   "pygments_lexer": "ipython3",
   "version": "3.9.12"
  }
 },
 "nbformat": 4,
 "nbformat_minor": 5
}
