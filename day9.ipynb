{
 "cells": [
  {
   "cell_type": "code",
   "execution_count": 14,
   "metadata": {},
   "outputs": [
    {
     "name": "stdout",
     "output_type": "stream",
     "text": [
      "please provide first number:44\n",
      "please enter second number:66\n",
      "PLEASE PICK YOUR DESIRED OPERATION [+,-,*,/]:+\n",
      "44 +66 = 110\n"
     ]
    }
   ],
   "source": [
    "try:\n",
    "    num1=int(input('please provide first number:'))\n",
    "    num2=int(input('please enter second number:'))\n",
    "    operation =input('PLEASE PICK YOUR DESIRED OPERATION [+,-,*,/]:')\n",
    "    if operation =='+':\n",
    "        print(f'{num1} +{num2} = {num1 + num2}')\n",
    "    elif operation =='-':\n",
    "        print(f'{num1} -{num2} = {num1 - num2}')\n",
    "    elif operation =='*':\n",
    "        print(f'{num1} * {num2} = {num1 * num2}')\n",
    "    elif operation =='/':\n",
    "        print(f'{num1} / {num2} = {num1 / num2}')\n",
    "    else:\n",
    "        print('invalid operation')\n",
    "except:\n",
    "        print('you have encountered one or more errors')\n"
   ]
  },
  {
   "cell_type": "markdown",
   "metadata": {},
   "source": []
  },
  {
   "cell_type": "code",
   "execution_count": 1,
   "metadata": {},
   "outputs": [
    {
     "name": "stdout",
     "output_type": "stream",
     "text": [
      "please provide first number:12\n",
      "please enter second number:34\n",
      "PLEASE PICK YOUR DESIRED OPERATION [+,-,*,/]:+\n",
      "12 +34 = 46\n",
      "49222352429520267040371132431220080\n",
      "END OF PROGRAM\n"
     ]
    }
   ],
   "source": [
    "try:\n",
    "    num1=int(input('please provide first number:'))\n",
    "    num2=int(input('please enter second number:'))\n",
    "    operation =input('PLEASE PICK YOUR DESIRED OPERATION [+,-,*,/]:')\n",
    "    if operation =='+':\n",
    "        print(f'{num1} +{num2} = {num1 + num2}')\n",
    "    elif operation =='-':\n",
    "        print(f'{num1} -{num2} = {num1 - num2}')\n",
    "    elif operation =='*':\n",
    "        print(f'{num1} * {num2} = {num1 * num2}')\n",
    "    elif operation =='/':\n",
    "        print(f'{num1} / {num2} = {num1 / num2}')\n",
    "    else:\n",
    "        print('invalid operation')\n",
    "except valueError:\n",
    "        print('you have entered a wronG value,whole number expected')\n",
    "except zerodivisionerror:\n",
    "        print('sorry you cannot divide a number by zero')\n",
    "except:\n",
    "        print('you have encountered one or more errors')\n",
    "else:\n",
    "    print((num1**num2)//100)\n",
    "finally:\n",
    "    print('END OF PROGRAM')"
   ]
  },
  {
   "cell_type": "code",
   "execution_count": 1,
   "metadata": {},
   "outputs": [],
   "source": [
    "#A MALL HAS 5 FLOORS AND A GROUND FLOOR HAVING 3 SHOPS EACH USING ERROR  TOOLS WRITE A PYTHON PROGRAM TO NAVIGATE THROUGH EACH FLOOR AND SHOP \n",
    "#HANDLE THE FOLLOWING ERRORS\n",
    "#VALUEERROR AND IDENTATIONERROR\n",
    "\n",
    "#STOP BY 1.30\n"
   ]
  },
  {
   "cell_type": "code",
   "execution_count": 5,
   "metadata": {},
   "outputs": [
    {
     "name": "stdout",
     "output_type": "stream",
     "text": [
      "WELCOME TO GRAND GREEN MALL\n",
      "PLEASE PRESS THE BUTTON TO YOUR DESIRED FLOOR1\n",
      "POM POM FIRST FLOOR\n",
      "TURN RIGHT TO SHOP1,TURN LEFT TO SHOP2,MOVE FORWARD TO SHOP3\n",
      "END OF PROGRAM\n"
     ]
    }
   ],
   "source": [
    "try:\n",
    "    print('WELCOME TO GRAND GREEN MALL')\n",
    "    floor_option = input('PLEASE PRESS THE BUTTON TO YOUR DESIRED FLOOR')\n",
    "    if floor_option =='1':\n",
    "        print('POM POM FIRST FLOOR')\n",
    "        print('TURN RIGHT TO SHOP1,TURN LEFT TO SHOP2,MOVE FORWARD TO SHOP3')\n",
    "    elif floor_option =='2':\n",
    "        print('POM POM SECOND FLOOR')\n",
    "        print('TURN RIGHT TO SHOP1,TURN LEFT TO SHOP2,MOVE FORWARD TO SHOP3')\n",
    "    elif floor_option =='3':\n",
    "        print('POM POM THIRD FLOOR')\n",
    "        print('TURN RIGHT TO SHOP1,TURN LEFT TO SHOP2,MOVE FORWARD TO SHOP3')\n",
    "    elif floor_option =='4':\n",
    "        print('POM POM FOURTH FLOOR')\n",
    "        print('TURN RIGHT TO SHOP1,TURN LEFT TO SHOP2,MOVE FORWARD TO SHOP3')\n",
    "    elif floor_option =='5':\n",
    "        print('POM POM FIFTH FLOOR')\n",
    "        print('TURN RIGHT TO SHOP1,TURN LEFT TO SHOP2,MOVE FORWARD TO SHOP3')\n",
    "    elif floor_option =='GFR':\n",
    "        print('POM POM GROUND FLOOR')\n",
    "        print('TURN RIGHT TO SHOP1,TURN LEFT TO SHOP2,MOVE FORWARD TO SHOP3')\n",
    "    else:\n",
    "        print('INVALID FLOOR OPTION')\n",
    "except valueError:\n",
    "    print('string values is required')\n",
    "except indentationerror:\n",
    "    print('you program is not well aligned')\n",
    "except:\n",
    "    print('you have encountered one or more errors')\n",
    "finally:\n",
    "    print('END OF PROGRAM')\n",
    "    "
   ]
  },
  {
   "cell_type": "code",
   "execution_count": null,
   "metadata": {},
   "outputs": [],
   "source": []
  }
 ],
 "metadata": {
  "kernelspec": {
   "display_name": "Python 3 (ipykernel)",
   "language": "python",
   "name": "python3"
  },
  "language_info": {
   "codemirror_mode": {
    "name": "ipython",
    "version": 3
   },
   "file_extension": ".py",
   "mimetype": "text/x-python",
   "name": "python",
   "nbconvert_exporter": "python",
   "pygments_lexer": "ipython3",
   "version": "3.9.12"
  }
 },
 "nbformat": 4,
 "nbformat_minor": 4
}
