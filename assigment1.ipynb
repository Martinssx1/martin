{
 "cells": [
  {
   "cell_type": "code",
   "execution_count": 1,
   "id": "8e404716",
   "metadata": {},
   "outputs": [
    {
     "name": "stdout",
     "output_type": "stream",
     "text": [
      "THE PLATES WILL STILL SHIFT\n",
      "AND THE CLOUDS WILL STILL SPEW\n",
      "THE SUN WILL SLOWLY RISE\n",
      "AND THE MOON WILL FOLLOW TOO\n"
     ]
    }
   ],
   "source": [
    "word1 = '''the plates will still shift\n",
    "and the clouds will still spew\n",
    "the sun will slowly rise\n",
    "and the moon will follow too'''\n",
    "print(word1.upper())"
   ]
  },
  {
   "cell_type": "code",
   "execution_count": 2,
   "id": "501eb785",
   "metadata": {},
   "outputs": [
    {
     "name": "stdout",
     "output_type": "stream",
     "text": [
      "MY NAME IS JAMES\n"
     ]
    }
   ],
   "source": [
    "print('MY NAME IS JAMES')"
   ]
  },
  {
   "cell_type": "code",
   "execution_count": 3,
   "id": "34cf4ee6",
   "metadata": {},
   "outputs": [
    {
     "name": "stdout",
     "output_type": "stream",
     "text": [
      "i'm from a well known village with good culture in kogi state\n"
     ]
    }
   ],
   "source": [
    "state='i\\'m from a well known village with good culture in kogi state'\n",
    "print(state)"
   ]
  },
  {
   "cell_type": "code",
   "execution_count": 4,
   "id": "5f205916",
   "metadata": {},
   "outputs": [
    {
     "name": "stdout",
     "output_type": "stream",
     "text": [
      "458.0\n"
     ]
    }
   ],
   "source": [
    "totalmoney=1000\n",
    "quantity=3\n",
    "price=450\n",
    "\n"
   ]
  },
  {
   "cell_type": "code",
   "execution_count": 10,
   "id": "72ad5ab7",
   "metadata": {},
   "outputs": [
    {
     "name": "stdout",
     "output_type": "stream",
     "text": [
      "enter first namechima\n",
      "enter second namemartins\n",
      "enter third nameada\n"
     ]
    }
   ],
   "source": [
    "a=input( 'enter first name')\n",
    "b=input( 'enter second name')\n",
    "c=input( 'enter third name' )"
   ]
  },
  {
   "cell_type": "code",
   "execution_count": 12,
   "id": "732250eb",
   "metadata": {},
   "outputs": [
    {
     "name": "stdout",
     "output_type": "stream",
     "text": [
      "enter first nameada\n",
      "enter second namegas\n",
      "enter third namedes\n"
     ]
    }
   ],
   "source": []
  },
  {
   "cell_type": "code",
   "execution_count": null,
   "id": "f5da515a",
   "metadata": {},
   "outputs": [],
   "source": []
  }
 ],
 "metadata": {
  "kernelspec": {
   "display_name": "Python 3 (ipykernel)",
   "language": "python",
   "name": "python3"
  },
  "language_info": {
   "codemirror_mode": {
    "name": "ipython",
    "version": 3
   },
   "file_extension": ".py",
   "mimetype": "text/x-python",
   "name": "python",
   "nbconvert_exporter": "python",
   "pygments_lexer": "ipython3",
   "version": "3.9.12"
  }
 },
 "nbformat": 4,
 "nbformat_minor": 5
}
