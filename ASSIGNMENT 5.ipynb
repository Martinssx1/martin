{
 "cells": [
  {
   "cell_type": "code",
   "execution_count": 6,
   "id": "f2d4ba51",
   "metadata": {},
   "outputs": [
    {
     "data": {
      "text/plain": [
       "[90,\n",
       " 93,\n",
       " 51,\n",
       " 68,\n",
       " 82,\n",
       " 72,\n",
       " 93,\n",
       " 60,\n",
       " 90,\n",
       " 55,\n",
       " 81,\n",
       " 55,\n",
       " 75,\n",
       " 48,\n",
       " 77,\n",
       " 82,\n",
       " 80,\n",
       " 92,\n",
       " 92,\n",
       " 67,\n",
       " 81,\n",
       " 95,\n",
       " 90,\n",
       " 77,\n",
       " 53,\n",
       " 62,\n",
       " 60,\n",
       " 78,\n",
       " 80,\n",
       " 80,\n",
       " 50,\n",
       " 97,\n",
       " 71,\n",
       " 101,\n",
       " 57,\n",
       " 99,\n",
       " 87,\n",
       " 72,\n",
       " 48,\n",
       " 72,\n",
       " 80,\n",
       " 69,\n",
       " 101,\n",
       " 72,\n",
       " 56,\n",
       " 70,\n",
       " 87,\n",
       " 57,\n",
       " 66,\n",
       " 83,\n",
       " 69,\n",
       " 46,\n",
       " 90,\n",
       " 57,\n",
       " 53,\n",
       " 99,\n",
       " 88,\n",
       " 68,\n",
       " 87,\n",
       " 57,\n",
       " 94,\n",
       " 78,\n",
       " 78,\n",
       " 65,\n",
       " 56,\n",
       " 87,\n",
       " 72,\n",
       " 72,\n",
       " 73,\n",
       " 64]"
      ]
     },
     "execution_count": 6,
     "metadata": {},
     "output_type": "execute_result"
    }
   ],
   "source": [
    "random.choices(range(45,102), k=70)\n",
    "list\n"
   ]
  },
  {
   "cell_type": "code",
   "execution_count": null,
   "id": "eaac5f4f",
   "metadata": {},
   "outputs": [],
   "source": []
  }
 ],
 "metadata": {
  "kernelspec": {
   "display_name": "Python 3 (ipykernel)",
   "language": "python",
   "name": "python3"
  },
  "language_info": {
   "codemirror_mode": {
    "name": "ipython",
    "version": 3
   },
   "file_extension": ".py",
   "mimetype": "text/x-python",
   "name": "python",
   "nbconvert_exporter": "python",
   "pygments_lexer": "ipython3",
   "version": "3.9.12"
  }
 },
 "nbformat": 4,
 "nbformat_minor": 5
}
