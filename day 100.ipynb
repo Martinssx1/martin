{
 "cells": [
  {
   "cell_type": "code",
   "execution_count": 1,
   "id": "ddf298bf",
   "metadata": {},
   "outputs": [
    {
     "ename": "NameError",
     "evalue": "name 'DATETIME' is not defined",
     "output_type": "error",
     "traceback": [
      "\u001b[1;31m---------------------------------------------------------------------------\u001b[0m",
      "\u001b[1;31mNameError\u001b[0m                                 Traceback (most recent call last)",
      "Input \u001b[1;32mIn [1]\u001b[0m, in \u001b[0;36m<cell line: 1>\u001b[1;34m()\u001b[0m\n\u001b[1;32m----> 1\u001b[0m \u001b[43mDATETIME\u001b[49m\n",
      "\u001b[1;31mNameError\u001b[0m: name 'DATETIME' is not defined"
     ]
    }
   ],
   "source": [
    "DATETIME"
   ]
  },
  {
   "cell_type": "code",
   "execution_count": 2,
   "id": "3921c58e",
   "metadata": {},
   "outputs": [
    {
     "name": "stdout",
     "output_type": "stream",
     "text": [
      "['MAXYEAR', 'MINYEAR', '__all__', '__builtins__', '__cached__', '__doc__', '__file__', '__loader__', '__name__', '__package__', '__spec__', 'date', 'datetime', 'datetime_CAPI', 'sys', 'time', 'timedelta', 'timezone', 'tzinfo']\n"
     ]
    }
   ],
   "source": [
    "import datetime\n",
    "print(dir(datetime))"
   ]
  },
  {
   "cell_type": "code",
   "execution_count": 3,
   "id": "bbe10340",
   "metadata": {},
   "outputs": [
    {
     "name": "stdout",
     "output_type": "stream",
     "text": [
      "2021-01-25\n"
     ]
    }
   ],
   "source": [
    "date1 = datetime.date(2021,1,25)\n",
    "print(date1)\n"
   ]
  },
  {
   "cell_type": "code",
   "execution_count": 4,
   "id": "2e25b761",
   "metadata": {},
   "outputs": [
    {
     "name": "stdout",
     "output_type": "stream",
     "text": [
      "<class 'datetime.date'>\n"
     ]
    }
   ],
   "source": [
    "print(type(date1))"
   ]
  },
  {
   "cell_type": "code",
   "execution_count": 5,
   "id": "50b1f231",
   "metadata": {},
   "outputs": [
    {
     "name": "stdout",
     "output_type": "stream",
     "text": [
      "2021\n",
      "1\n",
      "25\n",
      "0\n",
      "1\n"
     ]
    }
   ],
   "source": [
    "print(date1.year)\n",
    "print(date1.month)\n",
    "print(date1.day)\n",
    "print(date1.weekday())\n",
    "print(date1.isoweekday())\n"
   ]
  },
  {
   "cell_type": "code",
   "execution_count": 6,
   "id": "a10c81fb",
   "metadata": {},
   "outputs": [
    {
     "name": "stdout",
     "output_type": "stream",
     "text": [
      "2023-05-01\n"
     ]
    }
   ],
   "source": [
    "currentdate = datetime.date.today()\n",
    "print(currentdate)"
   ]
  },
  {
   "cell_type": "code",
   "execution_count": 7,
   "id": "bd5c39ca",
   "metadata": {},
   "outputs": [
    {
     "data": {
      "text/plain": [
       "'01st ofMay, 2023'"
      ]
     },
     "execution_count": 7,
     "metadata": {},
     "output_type": "execute_result"
    }
   ],
   "source": [
    "# strftime : it is used for the modification of date and time\n",
    "#A represent weekday in words (full)\n",
    "#a represent the weekday in words(abb)\n",
    "#B represent the month in words(full)\n",
    "#b represent the month in words(full)\n",
    "#d represent the day\n",
    "#m represent the month in figure\n",
    "#Y represent the year(4 digit)\n",
    "#y represent the year(2 digit)\n",
    "currentdate.strftime('%dst of%B, %Y')"
   ]
  },
  {
   "cell_type": "code",
   "execution_count": 8,
   "id": "955d0f71",
   "metadata": {},
   "outputs": [
    {
     "name": "stdout",
     "output_type": "stream",
     "text": [
      "12:25:52.252369\n"
     ]
    }
   ],
   "source": [
    "time1 = datetime.time(12,25,52,252369)\n",
    "print(time1)"
   ]
  },
  {
   "cell_type": "code",
   "execution_count": 10,
   "id": "c0e573e3",
   "metadata": {},
   "outputs": [
    {
     "name": "stdout",
     "output_type": "stream",
     "text": [
      "12\n",
      "52\n",
      "25\n",
      "252369\n"
     ]
    }
   ],
   "source": [
    "print(time1.hour)\n",
    "print(time1.second)\n",
    "print(time1.minute)\n",
    "print(time1.microsecond)"
   ]
  },
  {
   "cell_type": "code",
   "execution_count": 11,
   "id": "5cd053cb",
   "metadata": {},
   "outputs": [
    {
     "name": "stdout",
     "output_type": "stream",
     "text": [
      "14:47:39.170846\n"
     ]
    }
   ],
   "source": [
    "currenttime = datetime.datetime.now().time()\n",
    "print(currenttime)"
   ]
  },
  {
   "cell_type": "code",
   "execution_count": 13,
   "id": "447f8f91",
   "metadata": {},
   "outputs": [
    {
     "data": {
      "text/plain": [
       "'02::47::39::PM'"
      ]
     },
     "execution_count": 13,
     "metadata": {},
     "output_type": "execute_result"
    }
   ],
   "source": [
    "currenttime.strftime('%I::%M::%S::%p')\n",
    "#H represent hour(24)\n",
    "#I represent hour(12)\n",
    "#M represent minutes\n",
    "#S represent second\n",
    "#f represent microsecond\n",
    "#p represent either AM or PM"
   ]
  },
  {
   "cell_type": "code",
   "execution_count": 16,
   "id": "10167973",
   "metadata": {},
   "outputs": [
    {
     "name": "stdout",
     "output_type": "stream",
     "text": [
      "Enter your Date in this format [d/m/Y]01/04/2023\n",
      "2023-04-01\n"
     ]
    }
   ],
   "source": [
    "#strptime is used to convert a string a datetime format\n",
    "date2 = input('Enter your Date in this format [d/m/Y]')\n",
    "cdate = datetime.datetime.strptime(date2,'%d/%m/%Y').date()\n",
    "print(cdate)"
   ]
  },
  {
   "cell_type": "code",
   "execution_count": 17,
   "id": "646084fb",
   "metadata": {},
   "outputs": [
    {
     "data": {
      "text/plain": [
       "datetime.datetime(2023, 5, 1, 15, 5, 4, 462743)"
      ]
     },
     "execution_count": 17,
     "metadata": {},
     "output_type": "execute_result"
    }
   ],
   "source": [
    "currentdate_time = datetime.datetime.now()\n",
    "currentdate_time"
   ]
  },
  {
   "cell_type": "code",
   "execution_count": 18,
   "id": "b39d7ef5",
   "metadata": {},
   "outputs": [
    {
     "data": {
      "text/plain": [
       "datetime.timedelta(days=826)"
      ]
     },
     "execution_count": 18,
     "metadata": {},
     "output_type": "execute_result"
    }
   ],
   "source": [
    "currentdate - date1"
   ]
  },
  {
   "cell_type": "code",
   "execution_count": 19,
   "id": "3eb095ad",
   "metadata": {},
   "outputs": [
    {
     "data": {
      "text/plain": [
       "datetime.datetime(2023, 9, 28, 15, 5, 4, 462743)"
      ]
     },
     "execution_count": 19,
     "metadata": {},
     "output_type": "execute_result"
    }
   ],
   "source": [
    "currentdate_time +datetime.timedelta(days =150)\n"
   ]
  },
  {
   "cell_type": "code",
   "execution_count": 20,
   "id": "a2ec7b02",
   "metadata": {},
   "outputs": [
    {
     "data": {
      "text/plain": [
       "datetime.datetime(2022, 12, 2, 15, 5, 4, 462743)"
      ]
     },
     "execution_count": 20,
     "metadata": {},
     "output_type": "execute_result"
    }
   ],
   "source": [
    "currentdate_time - datetime.timedelta(days=150)"
   ]
  },
  {
   "cell_type": "code",
   "execution_count": 21,
   "id": "68052d59",
   "metadata": {},
   "outputs": [
    {
     "name": "stdout",
     "output_type": "stream",
     "text": [
      "enter your guess:A\n",
      "enter your guess:E\n",
      "enter your guess:C\n",
      "enter your guess:B\n",
      "enter your guess:Z\n",
      "enter your guess:R\n",
      "enter your guess:O\n",
      "enter your guess:P\n",
      "enter your guess:L\n",
      "enter your guess:K\n",
      "enter your guess:J\n",
      "enter your guess:D\n",
      "enter your guess:M\n",
      "enter your guess:N\n",
      "congrats your guess is right\n",
      "your time frame in guessing the correct letter is41SECONDS\n"
     ]
    }
   ],
   "source": [
    "#WRITE A PROGRAM TO GUESS A GENERATED RANDOM LETTER AND CALCULATED HOW MANY SECONDS IT TAKES TO GUESS THE LETTER\n",
    "import random\n",
    "import string \n",
    "letters = string.ascii_uppercase\n",
    "char = list(map(lambda x: x.upper(),letters))\n",
    "guess = random.choice(char)\n",
    "counter =0\n",
    "start = datetime.datetime.now()\n",
    "yourguess= input('enter your guess:')\n",
    "while yourguess != guess:\n",
    "    counter +=1\n",
    "    yourguess =input('enter your guess:')\n",
    "else:\n",
    "    print('congrats your guess is right')\n",
    "stop = datetime.datetime.now()\n",
    "diff = stop - start\n",
    "print(f'your time frame in guessing the correct letter is{diff.seconds}SECONDS')"
   ]
  },
  {
   "cell_type": "code",
   "execution_count": 27,
   "id": "938323ae",
   "metadata": {},
   "outputs": [
    {
     "name": "stdout",
     "output_type": "stream",
     "text": [
      "enter your appointmentmentdate [d/m/Y]01/04/2023\n",
      "Hey user you have -5weeks and5until your appointment.\n"
     ]
    }
   ],
   "source": [
    "#EXERCISE\n",
    "#WRITE A PROGRAM TO CALCULATE HOW MANY WEEKS AND DAYS A USER HAS UNTILL HIS/HER APPOINTMENT DATE FROM THE CURRENT DATE\n",
    "userdate = input('enter your appointmentmentdate [d/m/Y]')\n",
    "appointmentdate=datetime.datetime.strptime(userdate,'%d/%m/%Y').date()\n",
    "currentdate = datetime.date.today()\n",
    "diff =appointmentdate - currentdate\n",
    "trnweeks = diff.days // 7\n",
    "trndays = diff.days % 7\n",
    "print(f'Hey user you have {trnweeks}weeks and{trndays}until your appointment.')\n",
    "\n",
    "\n"
   ]
  },
  {
   "cell_type": "code",
   "execution_count": null,
   "id": "33ba86ca",
   "metadata": {},
   "outputs": [],
   "source": []
  },
  {
   "cell_type": "code",
   "execution_count": null,
   "id": "7e0b47e0",
   "metadata": {},
   "outputs": [],
   "source": []
  }
 ],
 "metadata": {
  "kernelspec": {
   "display_name": "Python 3 (ipykernel)",
   "language": "python",
   "name": "python3"
  },
  "language_info": {
   "codemirror_mode": {
    "name": "ipython",
    "version": 3
   },
   "file_extension": ".py",
   "mimetype": "text/x-python",
   "name": "python",
   "nbconvert_exporter": "python",
   "pygments_lexer": "ipython3",
   "version": "3.9.12"
  }
 },
 "nbformat": 4,
 "nbformat_minor": 5
}
