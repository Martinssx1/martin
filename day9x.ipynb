{
 "cells": [
  {
   "cell_type": "code",
   "execution_count": 11,
   "id": "9191e09b",
   "metadata": {},
   "outputs": [],
   "source": [
    "class simulation:\n",
    "    def __init__(self,brand,model,color,year,speed):\n",
    "        self.brand = brand\n",
    "        self.model = model\n",
    "        self.color = color\n",
    "        self.year = year\n",
    "        self.speed = speed\n",
    "        \n",
    "        \n",
    "    def start(self):\n",
    "        print(f'{self.brand}{self.model}has started')\n",
    "        \n",
    "    def gear(self,option):\n",
    "        print(f'{self.brand}{self.model}has started')\n",
    "        \n",
    "    def gear(self,option):\n",
    "        if option ==1:\n",
    "            print('Gear changed to 1')\n",
    "        elif option ==2:\n",
    "            print('Gear changed to 2')\n",
    "        elif option ==3:\n",
    "            print('Gear changed to 3')\n",
    "        elif option ==4:\n",
    "            print('Gear changed to 4')\n",
    "        elif option ==5:\n",
    "            print('Gear changed to 5')\n",
    "        elif option ==6:\n",
    "            print('Gear changed to reserve')\n",
    "            \n",
    "    def accelerate(self,option):\n",
    "        if option == 1:\n",
    "            print('nitro engaged')\n",
    "        elif option ==2:\n",
    "            print('nitro disengaged')\n",
    "                \n",
    "                \n",
    "    def stop(self):\n",
    "        print(f'{self.brand} {self.model}has stopped')\n",
    "            \n",
    "class simulation:car1 = ('Audi','AG6','White',2020,450)"
   ]
  },
  {
   "cell_type": "code",
   "execution_count": 4,
   "id": "e6b43894",
   "metadata": {},
   "outputs": [
    {
     "name": "stdout",
     "output_type": "stream",
     "text": [
      "AudiAG6has started\n"
     ]
    }
   ],
   "source": [
    "car1.start()"
   ]
  },
  {
   "cell_type": "code",
   "execution_count": 14,
   "id": "bd0096a9",
   "metadata": {},
   "outputs": [
    {
     "ename": "AttributeError",
     "evalue": "'simulation' object has no attribute 'accelerate'",
     "output_type": "error",
     "traceback": [
      "\u001b[1;31m---------------------------------------------------------------------------\u001b[0m",
      "\u001b[1;31mAttributeError\u001b[0m                            Traceback (most recent call last)",
      "Input \u001b[1;32mIn [14]\u001b[0m, in \u001b[0;36m<cell line: 1>\u001b[1;34m()\u001b[0m\n\u001b[1;32m----> 1\u001b[0m \u001b[43mcar1\u001b[49m\u001b[38;5;241;43m.\u001b[39;49m\u001b[43maccelerate\u001b[49m(\u001b[38;5;241m1\u001b[39m)\n",
      "\u001b[1;31mAttributeError\u001b[0m: 'simulation' object has no attribute 'accelerate'"
     ]
    }
   ],
   "source": [
    "car1.accelerate(1)"
   ]
  },
  {
   "cell_type": "code",
   "execution_count": 16,
   "id": "ce765e5b",
   "metadata": {},
   "outputs": [
    {
     "ename": "TypeError",
     "evalue": "simulation2() takes no arguments",
     "output_type": "error",
     "traceback": [
      "\u001b[1;31m---------------------------------------------------------------------------\u001b[0m",
      "\u001b[1;31mTypeError\u001b[0m                                 Traceback (most recent call last)",
      "Input \u001b[1;32mIn [16]\u001b[0m, in \u001b[0;36m<cell line: 7>\u001b[1;34m()\u001b[0m\n\u001b[0;32m      5\u001b[0m         \u001b[38;5;28;01melif\u001b[39;00m option \u001b[38;5;241m==\u001b[39m \u001b[38;5;241m2\u001b[39m:\n\u001b[0;32m      6\u001b[0m             \u001b[38;5;28mprint\u001b[39m(\u001b[38;5;124m'\u001b[39m\u001b[38;5;124mroof closed\u001b[39m\u001b[38;5;124m'\u001b[39m)\n\u001b[1;32m----> 7\u001b[0m car2 \u001b[38;5;241m=\u001b[39m\u001b[43msimulation2\u001b[49m\u001b[43m(\u001b[49m\u001b[38;5;124;43m'\u001b[39;49m\u001b[38;5;124;43mMerecdez benz\u001b[39;49m\u001b[38;5;124;43m'\u001b[39;49m\u001b[43m,\u001b[49m\u001b[38;5;124;43m'\u001b[39;49m\u001b[38;5;124;43mGMNH\u001b[39;49m\u001b[38;5;124;43m'\u001b[39;49m\u001b[43m,\u001b[49m\u001b[38;5;124;43m'\u001b[39;49m\u001b[38;5;124;43mBlack\u001b[39;49m\u001b[38;5;124;43m'\u001b[39;49m\u001b[43m,\u001b[49m\u001b[38;5;241;43m2022\u001b[39;49m\u001b[43m,\u001b[49m\u001b[38;5;241;43m600\u001b[39;49m\u001b[43m)\u001b[49m\n",
      "\u001b[1;31mTypeError\u001b[0m: simulation2() takes no arguments"
     ]
    }
   ],
   "source": [
    "class simulation2(simulation):\n",
    "    def openroof(self,option):\n",
    "        if option == 1:\n",
    "            print('roof open')\n",
    "        elif option == 2:\n",
    "            print('roof closed')\n",
    "car2 =simulation2('Merecdez benz','GMNH','Black',2022,600)"
   ]
  },
  {
   "cell_type": "code",
   "execution_count": 17,
   "id": "01f531d3",
   "metadata": {},
   "outputs": [
    {
     "name": "stdout",
     "output_type": "stream",
     "text": [
      "Enter first number:1\n",
      "Enter second number:89\n",
      "+\n",
      "-\n",
      "*\n",
      "+\n",
      "/\n",
      "+\n",
      "1+89=90\n"
     ]
    }
   ],
   "source": [
    "try:\n",
    "    num1 = int(input('Enter first number:'))\n",
    "    num2 = int(input('Enter second number:'))\n",
    "    option = input('''+\n",
    "-\n",
    "*\n",
    "+\n",
    "/\n",
    "''')\n",
    "    if option == '+':\n",
    "        print(f'{num1}+{num2}={num1 + num2}')\n",
    "    elif option == '*':\n",
    "         print(f'{num1}*{num2}*{num1 * num2}')\n",
    "    elif option == '/':\n",
    "         print(f'{num1}/{num2}/{num1 / num2}')\n",
    "    elif option == '-':\n",
    "         print(f'{num1}-{num2}-{num1 - num2}')\n",
    "except:\n",
    "    print('you have encountered one or more errors')\n",
    "        \n",
    "    "
   ]
  },
  {
   "cell_type": "code",
   "execution_count": 20,
   "id": "bdbfb784",
   "metadata": {},
   "outputs": [
    {
     "name": "stdout",
     "output_type": "stream",
     "text": [
      "Enter first number:10\n",
      "Enter second number:0\n",
      "+\n",
      "-\n",
      "*\n",
      "+\n",
      "/\n",
      "/\n"
     ]
    },
    {
     "ename": "NameError",
     "evalue": "name 'valueError' is not defined",
     "output_type": "error",
     "traceback": [
      "\u001b[1;31m---------------------------------------------------------------------------\u001b[0m",
      "\u001b[1;31mZeroDivisionError\u001b[0m                         Traceback (most recent call last)",
      "Input \u001b[1;32mIn [20]\u001b[0m, in \u001b[0;36m<cell line: 1>\u001b[1;34m()\u001b[0m\n\u001b[0;32m     14\u001b[0m \u001b[38;5;28;01melif\u001b[39;00m option \u001b[38;5;241m==\u001b[39m \u001b[38;5;124m'\u001b[39m\u001b[38;5;124m/\u001b[39m\u001b[38;5;124m'\u001b[39m:\n\u001b[1;32m---> 15\u001b[0m      \u001b[38;5;28mprint\u001b[39m(\u001b[38;5;124mf\u001b[39m\u001b[38;5;124m'\u001b[39m\u001b[38;5;132;01m{\u001b[39;00mnum1\u001b[38;5;132;01m}\u001b[39;00m\u001b[38;5;124m/\u001b[39m\u001b[38;5;132;01m{\u001b[39;00mnum2\u001b[38;5;132;01m}\u001b[39;00m\u001b[38;5;124m/\u001b[39m\u001b[38;5;132;01m{\u001b[39;00mnum1 \u001b[38;5;241m/\u001b[39m num2\u001b[38;5;132;01m}\u001b[39;00m\u001b[38;5;124m'\u001b[39m)\n\u001b[0;32m     16\u001b[0m \u001b[38;5;28;01melif\u001b[39;00m option \u001b[38;5;241m==\u001b[39m \u001b[38;5;124m'\u001b[39m\u001b[38;5;124m-\u001b[39m\u001b[38;5;124m'\u001b[39m:\n",
      "\u001b[1;31mZeroDivisionError\u001b[0m: division by zero",
      "\nDuring handling of the above exception, another exception occurred:\n",
      "\u001b[1;31mNameError\u001b[0m                                 Traceback (most recent call last)",
      "Input \u001b[1;32mIn [20]\u001b[0m, in \u001b[0;36m<cell line: 1>\u001b[1;34m()\u001b[0m\n\u001b[0;32m     16\u001b[0m     \u001b[38;5;28;01melif\u001b[39;00m option \u001b[38;5;241m==\u001b[39m \u001b[38;5;124m'\u001b[39m\u001b[38;5;124m-\u001b[39m\u001b[38;5;124m'\u001b[39m:\n\u001b[0;32m     17\u001b[0m          \u001b[38;5;28mprint\u001b[39m(\u001b[38;5;124mf\u001b[39m\u001b[38;5;124m'\u001b[39m\u001b[38;5;132;01m{\u001b[39;00mnum1\u001b[38;5;132;01m}\u001b[39;00m\u001b[38;5;124m-\u001b[39m\u001b[38;5;132;01m{\u001b[39;00mnum2\u001b[38;5;132;01m}\u001b[39;00m\u001b[38;5;124m-\u001b[39m\u001b[38;5;132;01m{\u001b[39;00mnum1 \u001b[38;5;241m-\u001b[39m num2\u001b[38;5;132;01m}\u001b[39;00m\u001b[38;5;124m'\u001b[39m)\n\u001b[1;32m---> 18\u001b[0m \u001b[38;5;28;01mexcept\u001b[39;00m \u001b[43mvalueError\u001b[49m:\n\u001b[0;32m     19\u001b[0m     \u001b[38;5;28mprint\u001b[39m(\u001b[38;5;124m'\u001b[39m\u001b[38;5;124mwrong value only integer values expected....\u001b[39m\u001b[38;5;124m'\u001b[39m)\n\u001b[0;32m     20\u001b[0m \u001b[38;5;28;01mexcept\u001b[39;00m zeroDivisionerror:\n",
      "\u001b[1;31mNameError\u001b[0m: name 'valueError' is not defined"
     ]
    }
   ],
   "source": [
    "try:\n",
    "    num1 = int(input('Enter first number:'))\n",
    "    num2 = int(input('Enter second number:'))\n",
    "    option = input('''+\n",
    "-\n",
    "*\n",
    "+\n",
    "/\n",
    "''')\n",
    "    if option == '+':\n",
    "        print(f'{num1}+{num2}={num1 + num2}')\n",
    "    elif option == '*':\n",
    "         print(f'{num1}*{num2}*{num1 * num2}')\n",
    "    elif option == '/':\n",
    "         print(f'{num1}/{num2}/{num1 / num2}')\n",
    "    elif option == '-':\n",
    "         print(f'{num1}-{num2}-{num1 - num2}')\n",
    "except valueError:\n",
    "    print('wrong value only integer values expected....')\n",
    "except zeroDivisionerror:\n",
    "    print('you cannot divid a number by zero')\n",
    "except:\n",
    "    print('you have encountered one or more errors')"
   ]
  },
  {
   "cell_type": "code",
   "execution_count": 21,
   "id": "38c0e9c9",
   "metadata": {},
   "outputs": [
    {
     "ename": "NameError",
     "evalue": "name 'valueError' is not defined",
     "output_type": "error",
     "traceback": [
      "\u001b[1;31m---------------------------------------------------------------------------\u001b[0m",
      "\u001b[1;31mKeyboardInterrupt\u001b[0m                         Traceback (most recent call last)",
      "Input \u001b[1;32mIn [21]\u001b[0m, in \u001b[0;36m<cell line: 1>\u001b[1;34m()\u001b[0m\n\u001b[0;32m      1\u001b[0m \u001b[38;5;28;01mtry\u001b[39;00m:\n\u001b[1;32m----> 2\u001b[0m     num1 \u001b[38;5;241m=\u001b[39m \u001b[38;5;28mint\u001b[39m(\u001b[38;5;28;43minput\u001b[39;49m\u001b[43m(\u001b[49m\u001b[38;5;124;43m'\u001b[39;49m\u001b[38;5;124;43mEnter first number:\u001b[39;49m\u001b[38;5;124;43m'\u001b[39;49m\u001b[43m)\u001b[49m)\n\u001b[0;32m      3\u001b[0m     num2 \u001b[38;5;241m=\u001b[39m \u001b[38;5;28mint\u001b[39m(\u001b[38;5;28minput\u001b[39m(\u001b[38;5;124m'\u001b[39m\u001b[38;5;124mEnter second number:\u001b[39m\u001b[38;5;124m'\u001b[39m))\n",
      "File \u001b[1;32m~\\Documents\\anacanda\\lib\\site-packages\\ipykernel\\kernelbase.py:1075\u001b[0m, in \u001b[0;36mKernel.raw_input\u001b[1;34m(self, prompt)\u001b[0m\n\u001b[0;32m   1072\u001b[0m     \u001b[38;5;28;01mraise\u001b[39;00m StdinNotImplementedError(\n\u001b[0;32m   1073\u001b[0m         \u001b[38;5;124m\"\u001b[39m\u001b[38;5;124mraw_input was called, but this frontend does not support input requests.\u001b[39m\u001b[38;5;124m\"\u001b[39m\n\u001b[0;32m   1074\u001b[0m     )\n\u001b[1;32m-> 1075\u001b[0m \u001b[38;5;28;01mreturn\u001b[39;00m \u001b[38;5;28;43mself\u001b[39;49m\u001b[38;5;241;43m.\u001b[39;49m\u001b[43m_input_request\u001b[49m\u001b[43m(\u001b[49m\n\u001b[0;32m   1076\u001b[0m \u001b[43m    \u001b[49m\u001b[38;5;28;43mstr\u001b[39;49m\u001b[43m(\u001b[49m\u001b[43mprompt\u001b[49m\u001b[43m)\u001b[49m\u001b[43m,\u001b[49m\n\u001b[0;32m   1077\u001b[0m \u001b[43m    \u001b[49m\u001b[38;5;28;43mself\u001b[39;49m\u001b[38;5;241;43m.\u001b[39;49m\u001b[43m_parent_ident\u001b[49m\u001b[43m[\u001b[49m\u001b[38;5;124;43m\"\u001b[39;49m\u001b[38;5;124;43mshell\u001b[39;49m\u001b[38;5;124;43m\"\u001b[39;49m\u001b[43m]\u001b[49m\u001b[43m,\u001b[49m\n\u001b[0;32m   1078\u001b[0m \u001b[43m    \u001b[49m\u001b[38;5;28;43mself\u001b[39;49m\u001b[38;5;241;43m.\u001b[39;49m\u001b[43mget_parent\u001b[49m\u001b[43m(\u001b[49m\u001b[38;5;124;43m\"\u001b[39;49m\u001b[38;5;124;43mshell\u001b[39;49m\u001b[38;5;124;43m\"\u001b[39;49m\u001b[43m)\u001b[49m\u001b[43m,\u001b[49m\n\u001b[0;32m   1079\u001b[0m \u001b[43m    \u001b[49m\u001b[43mpassword\u001b[49m\u001b[38;5;241;43m=\u001b[39;49m\u001b[38;5;28;43;01mFalse\u001b[39;49;00m\u001b[43m,\u001b[49m\n\u001b[0;32m   1080\u001b[0m \u001b[43m\u001b[49m\u001b[43m)\u001b[49m\n",
      "File \u001b[1;32m~\\Documents\\anacanda\\lib\\site-packages\\ipykernel\\kernelbase.py:1120\u001b[0m, in \u001b[0;36mKernel._input_request\u001b[1;34m(self, prompt, ident, parent, password)\u001b[0m\n\u001b[0;32m   1118\u001b[0m \u001b[38;5;28;01mexcept\u001b[39;00m \u001b[38;5;167;01mKeyboardInterrupt\u001b[39;00m:\n\u001b[0;32m   1119\u001b[0m     \u001b[38;5;66;03m# re-raise KeyboardInterrupt, to truncate traceback\u001b[39;00m\n\u001b[1;32m-> 1120\u001b[0m     \u001b[38;5;28;01mraise\u001b[39;00m \u001b[38;5;167;01mKeyboardInterrupt\u001b[39;00m(\u001b[38;5;124m\"\u001b[39m\u001b[38;5;124mInterrupted by user\u001b[39m\u001b[38;5;124m\"\u001b[39m) \u001b[38;5;28;01mfrom\u001b[39;00m \u001b[38;5;28mNone\u001b[39m\n\u001b[0;32m   1121\u001b[0m \u001b[38;5;28;01mexcept\u001b[39;00m \u001b[38;5;167;01mException\u001b[39;00m:\n",
      "\u001b[1;31mKeyboardInterrupt\u001b[0m: Interrupted by user",
      "\nDuring handling of the above exception, another exception occurred:\n",
      "\u001b[1;31mNameError\u001b[0m                                 Traceback (most recent call last)",
      "Input \u001b[1;32mIn [21]\u001b[0m, in \u001b[0;36m<cell line: 1>\u001b[1;34m()\u001b[0m\n\u001b[0;32m     16\u001b[0m     \u001b[38;5;28;01melif\u001b[39;00m option \u001b[38;5;241m==\u001b[39m \u001b[38;5;124m'\u001b[39m\u001b[38;5;124m-\u001b[39m\u001b[38;5;124m'\u001b[39m:\n\u001b[0;32m     17\u001b[0m          \u001b[38;5;28mprint\u001b[39m(\u001b[38;5;124mf\u001b[39m\u001b[38;5;124m'\u001b[39m\u001b[38;5;132;01m{\u001b[39;00mnum1\u001b[38;5;132;01m}\u001b[39;00m\u001b[38;5;124m-\u001b[39m\u001b[38;5;132;01m{\u001b[39;00mnum2\u001b[38;5;132;01m}\u001b[39;00m\u001b[38;5;124m-\u001b[39m\u001b[38;5;132;01m{\u001b[39;00mnum1 \u001b[38;5;241m-\u001b[39m num2\u001b[38;5;132;01m}\u001b[39;00m\u001b[38;5;124m'\u001b[39m)\n\u001b[1;32m---> 18\u001b[0m \u001b[38;5;28;01mexcept\u001b[39;00m \u001b[43mvalueError\u001b[49m:\n\u001b[0;32m     19\u001b[0m     \u001b[38;5;28mprint\u001b[39m(\u001b[38;5;124m'\u001b[39m\u001b[38;5;124mwrong value only integer values expected....\u001b[39m\u001b[38;5;124m'\u001b[39m)\n\u001b[0;32m     20\u001b[0m \u001b[38;5;28;01mexcept\u001b[39;00m zeroDivisionerror:\n",
      "\u001b[1;31mNameError\u001b[0m: name 'valueError' is not defined"
     ]
    }
   ],
   "source": [
    "try:\n",
    "    num1 = int(input('Enter first number:'))\n",
    "    num2 = int(input('Enter second number:'))\n",
    "    option = input('''+\n",
    "-\n",
    "*\n",
    "+\n",
    "/\n",
    "''')\n",
    "    if option == '+':\n",
    "        print(f'{num1}+{num2}={num1 + num2}')\n",
    "    elif option == '*':\n",
    "         print(f'{num1}*{num2}*{num1 * num2}')\n",
    "    elif option == '/':\n",
    "         print(f'{num1}/{num2}/{num1 / num2}')\n",
    "    elif option == '-':\n",
    "         print(f'{num1}-{num2}-{num1 - num2}')\n",
    "except valueError:\n",
    "    print('wrong value only integer values expected....')\n",
    "except zeroDivisionerror:\n",
    "    print('you cannot divid a number by zero')\n",
    "except:\n",
    "    print('you have encountered one or more errors')\n",
    "else:\n",
    "    print"
   ]
  },
  {
   "cell_type": "code",
   "execution_count": 22,
   "id": "e956116a",
   "metadata": {},
   "outputs": [
    {
     "data": {
      "text/plain": [
       "16"
      ]
     },
     "execution_count": 22,
     "metadata": {},
     "output_type": "execute_result"
    }
   ],
   "source": [
    "(lambda x:x+x)(8)"
   ]
  },
  {
   "cell_type": "code",
   "execution_count": 23,
   "id": "32bbefe4",
   "metadata": {},
   "outputs": [],
   "source": [
    "numbers = []\n",
    "import random \n",
    "counter = 1\n",
    "while counter <= 50:\n",
    "    num = random.randint(45,80)\n",
    "    numbers.append(num)\n",
    "    counter +=1"
   ]
  },
  {
   "cell_type": "code",
   "execution_count": 24,
   "id": "bebda3db",
   "metadata": {},
   "outputs": [
    {
     "name": "stdout",
     "output_type": "stream",
     "text": [
      "[65, 62, 58, 68, 67, 47, 66, 66, 55, 79, 51, 67, 76, 66, 45, 49, 65, 56, 63, 75, 45, 73, 61, 64, 64, 64, 57, 63, 47, 52, 67, 61, 53, 47, 58, 46, 67, 69, 68, 53, 47, 57, 48, 78, 80, 67, 45, 63, 80, 47]\n"
     ]
    }
   ],
   "source": [
    "print(numbers)"
   ]
  },
  {
   "cell_type": "code",
   "execution_count": 25,
   "id": "a08f7c3a",
   "metadata": {},
   "outputs": [
    {
     "name": "stdout",
     "output_type": "stream",
     "text": [
      "[65.0, 62.0, 58.0, 68.0, 67.0, 47.0, 66.0, 66.0, 55.0, 79.0, 51.0, 67.0, 76.0, 66.0, 45.0, 49.0, 65.0, 56.0, 63.0, 75.0, 45.0, 73.0, 61.0, 64.0, 64.0, 64.0, 57.0, 63.0, 47.0, 52.0, 67.0, 61.0, 53.0, 47.0, 58.0, 46.0, 67.0, 69.0, 68.0, 53.0, 47.0, 57.0, 48.0, 78.0, 80.0, 67.0, 45.0, 63.0, 80.0, 47.0]\n"
     ]
    }
   ],
   "source": [
    "ulist = list(map(lambda x:float(x),numbers))\n",
    "print(ulist)"
   ]
  },
  {
   "cell_type": "code",
   "execution_count": null,
   "id": "cc5416b8",
   "metadata": {},
   "outputs": [],
   "source": []
  }
 ],
 "metadata": {
  "kernelspec": {
   "display_name": "Python 3 (ipykernel)",
   "language": "python",
   "name": "python3"
  },
  "language_info": {
   "codemirror_mode": {
    "name": "ipython",
    "version": 3
   },
   "file_extension": ".py",
   "mimetype": "text/x-python",
   "name": "python",
   "nbconvert_exporter": "python",
   "pygments_lexer": "ipython3",
   "version": "3.9.12"
  }
 },
 "nbformat": 4,
 "nbformat_minor": 5
}
