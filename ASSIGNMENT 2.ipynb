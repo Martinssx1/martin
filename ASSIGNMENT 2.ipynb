{
 "cells": [
  {
   "cell_type": "code",
   "execution_count": 16,
   "id": "b55ee75e",
   "metadata": {},
   "outputs": [
    {
     "name": "stdout",
     "output_type": "stream",
     "text": [
      "total age after three years is 36\n"
     ]
    }
   ],
   "source": [
    "age1=10\n",
    "age2=12\n",
    "age3=5\n",
    "totalage=27\n",
    "age_after_three_years=(age1 + 3)+(age2 + 3 )+(age3 +3)\n",
    "print('total age after three years is',(age_after_three_years))\n",
    "\n",
    "\n",
    "    \n"
   ]
  },
  {
   "cell_type": "code",
   "execution_count": 17,
   "id": "350ec21a",
   "metadata": {},
   "outputs": [
    {
     "name": "stdout",
     "output_type": "stream",
     "text": [
      "laps ran in two weeks is 168\n"
     ]
    }
   ],
   "source": [
    "laps_ran_per_day=12\n",
    "laps_ran_per_week=(laps_ran_per_day*7)\n",
    "laps_ran_in_two_weeks=(laps_ran_per_day*14)\n",
    "print('laps ran in two weeks is',(laps_ran_in_two_weeks))\n"
   ]
  },
  {
   "cell_type": "code",
   "execution_count": 19,
   "id": "c06d326e",
   "metadata": {},
   "outputs": [
    {
     "name": "stdout",
     "output_type": "stream",
     "text": [
      "cost of each toy is 83.33333333333333\n",
      "amount held was 16500\n"
     ]
    }
   ],
   "source": [
    "totaltoys=96\n",
    "totalprice=8000\n",
    "amountleft=8500\n",
    "cost_of_each_toy=(totalprice/totaltoys)\n",
    "print('cost of each toy is',(cost_of_each_toy))\n",
    "amount_held=(totalprice+amountleft)\n",
    "print('amount held was',(amount_held))\n"
   ]
  },
  {
   "cell_type": "code",
   "execution_count": null,
   "id": "b7bb098b",
   "metadata": {},
   "outputs": [],
   "source": []
  }
 ],
 "metadata": {
  "kernelspec": {
   "display_name": "Python 3 (ipykernel)",
   "language": "python",
   "name": "python3"
  },
  "language_info": {
   "codemirror_mode": {
    "name": "ipython",
    "version": 3
   },
   "file_extension": ".py",
   "mimetype": "text/x-python",
   "name": "python",
   "nbconvert_exporter": "python",
   "pygments_lexer": "ipython3",
   "version": "3.9.12"
  }
 },
 "nbformat": 4,
 "nbformat_minor": 5
}
