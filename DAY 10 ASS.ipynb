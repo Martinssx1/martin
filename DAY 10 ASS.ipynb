{
 "cells": [
  {
   "cell_type": "code",
   "execution_count": 5,
   "id": "77468777",
   "metadata": {},
   "outputs": [
    {
     "ename": "SyntaxError",
     "evalue": "invalid syntax (3093091245.py, line 57)",
     "output_type": "error",
     "traceback": [
      "\u001b[1;36m  Input \u001b[1;32mIn [5]\u001b[1;36m\u001b[0m\n\u001b[1;33m    elif operation =='details':\u001b[0m\n\u001b[1;37m    ^\u001b[0m\n\u001b[1;31mSyntaxError\u001b[0m\u001b[1;31m:\u001b[0m invalid syntax\n"
     ]
    }
   ],
   "source": [
    "class BMI:\n",
    "    def __init__(self,name,gender,country,continent,height,weight):\n",
    "        self.name= name\n",
    "        self.gender= gender\n",
    "        self.country= country\n",
    "        self.continent= continent\n",
    "        self.height= height\n",
    "        self.weight= weight\n",
    "    def accept(self,NAME,GENDER,COUNTRY,CONTINENT,HEIGHT,WEIGHT):\n",
    "        obi=BMI(NAME,ENDER,COUNTRY,CONTINTENT,HEIGHT,WEIGHT)\n",
    "        customers.append(ob)\n",
    "    def details(self,ob):\n",
    "        print(f'''NAME:{ob.name}\n",
    "    GENDER:{ob.gender}\n",
    "    COUNTRY:{ob.country}\n",
    "    CONTINENT:{ob.continent}\n",
    "    HEIGHT:{ob.height}\n",
    "    WEIGHT:{ob.weight}''')\n",
    "    def price_charge(self):\n",
    "        continent=input('PLEASE PROVIDE YOUR CONTINENT ONCE AGAIN:')\n",
    "        if continent=='Africa':\n",
    "            print('you be charged a consultation fee of $50')\n",
    "        elif continent=='Asia':\n",
    "            print('you be charged a consultation fee of $70')\n",
    "        elif continent=='southamerica':\n",
    "            print('you be charged a consultation fee of $65')\n",
    "        elif continent=='northamerica':\n",
    "            print('you be charged a consultation fee of $520')\n",
    "        elif continent=='europe':\n",
    "            print('you be charged a consultation fee of $150')\n",
    "        elif continent=='oceania':\n",
    "            print('you be charged a consultation fee of $250')\n",
    "        else:\n",
    "            print('YOU HAVE PROVIDED A INVALID CONTINENT')\n",
    "    def body_mass_index_checker(self):\n",
    "        height=float(input('PLEASE PROVIDE YOUR HEIGHT ONCE AGAIN:'))\n",
    "        weight=float(input('PLEASE PROVIDE YOUR WEIGHT ONCE AGAIN:'))\n",
    "        bmi=(weight/(height**2))\n",
    "        if bmi<18.5:\n",
    "            print('HEY YOU ARE UNDER WEIGHT PLEASE HELD ON TO THE NUTRITION SECTION FOR YOUR MEDICATION AND DIET ROUTINE')\n",
    "        elif bmi>=25 and bmi <=24.9:\n",
    "            print('HEY YOU ARE HEALTHY PLEASE CONTINUE YOUR DIET ROUTINE')\n",
    "        elif bmi>=25 and bmi <=29.9:\n",
    "            print('HEY YOU ARE OVERWEIGHT PLEASE HELD ON TO THE NUTRITION SECTION FOR YOUR MEDICATION AND DIET ROUTINE')\n",
    "        else:\n",
    "            print('HEY YOU ARE OBESE PLEASE HELD ON TO THE NUTRITION SECTION FOR YOUR MEDICATION AND DIET ROUTINE')\n",
    "            \n",
    "customers=[]\n",
    "obj= BMI('','','','',0,0)\n",
    "x=input('enter y as yes to login  and perform operations on the system and n as no to quit')\n",
    "n=1\n",
    "while x=='y':\n",
    "    operation=input('choose your operation [accept,details,price_charge,body_mass_index_checker]')\n",
    "    if operation =='accept':\n",
    "        obj.accept(input('client name'),input('client Gender'),(input('client Country'),\\\n",
    "                    input('client continent'),float(input('client Height')),float(input('client Weight')))\n",
    "    elif operation =='details':\n",
    "        print('LIST OF OUR CLIENT')\n",
    "        for i in range(len(customers)):\n",
    "                obj.details(customers[i])\n",
    "    elif operation =='price_charge':\n",
    "                obj.price_charge()\n",
    "    elif operation == 'body_mass_index_checker':\n",
    "                obj.body_mass_index_checker()\n",
    "    x=input('enter y as yes to login and perform operation on the system and n as no to quit')\n",
    "    n=n+1\n",
    "\n",
    "            \n",
    "\n",
    "               \n",
    "            \n",
    "        \n",
    "        \n"
   ]
  },
  {
   "cell_type": "code",
   "execution_count": 6,
   "id": "b2978353",
   "metadata": {},
   "outputs": [],
   "source": [
    "file=open('demo.pdf','w')\n",
    "file.write('python is fun to learn\\npython is cool')\n",
    "file.close()"
   ]
  },
  {
   "cell_type": "code",
   "execution_count": 9,
   "id": "861effcc",
   "metadata": {},
   "outputs": [
    {
     "name": "stdout",
     "output_type": "stream",
     "text": [
      "num = 12#Num as a variable storing an integer value of 12\n",
      "num2 = 15.6#Num2 as a variable storing a floating value of 15.6\n",
      "studentname = 'Ade Ojo'#studentname as a varible storing a sting value\n",
      "X =True # X as a cvarible stroing a boolean value\n",
      "\n",
      "#Declear a varible to hold any int value\n",
      "#Declear a variable to hold a floating value\n",
      "#Declear a variable to hold your firstname and another variable to hold your surname\n",
      "#Declear a varible to any of the boolean value\n",
      "print(studentname)\n",
      "word ='we\\'re brothers from the other side of the town'\n",
      "print(word)\n",
      "word2 = 'python is fun\\npython is easy to learn\\npython has an interactive environment'\n",
      "print(word2)\n",
      "\n",
      "word3 = '''python is fun\n",
      "python is easy to learn\n",
      "python has an interactive environmen\n",
      "'''\n",
      "print(word3)\n",
      "\n",
      "print('hello' + ' '+ 'world')\n",
      "print('welcome to earlycode', studentname)\n",
      "age1 = 26\n",
      "age2 = 30\n",
      "age3 = 20\n",
      "report = 'Ade is {} years old, Ojo is {} years old and paul is {} years old '\n",
      "print(report.format(age1,age2,age3))\n",
      "print(f'Ade is {age1} years old, Ojo is {age2} years old and paul is {age3} years old')\n",
      "\n",
      "\n",
      "word1 = 'python'\n",
      "word2 = 'PYTHON'\n",
      "word3 = 'python is fun'\n",
      "word4 = '  strip will clear off anyspace in front and back of a string'\n",
      "print(word1.upper())\n",
      "print(word2.lower())\n",
      "print(word3.title())\n",
      "print(word3.capitalize())\n",
      "print(word3.split())\n",
      "print(word4.strip()) \n",
      "\n",
      "\n"
     ]
    }
   ],
   "source": [
    "file=open('day1.py','r')\n",
    "print(file.read())\n",
    "file.close()"
   ]
  },
  {
   "cell_type": "code",
   "execution_count": 10,
   "id": "6b3acb84",
   "metadata": {},
   "outputs": [],
   "source": [
    "file=open('day1.pdf','a')\n",
    "file.write('\\npython is an high level language')\n",
    "file.close()"
   ]
  },
  {
   "cell_type": "code",
   "execution_count": 11,
   "id": "9bdce335",
   "metadata": {},
   "outputs": [
    {
     "name": "stdout",
     "output_type": "stream",
     "text": [
      "python is fun to learn\n",
      "python is cool\n"
     ]
    }
   ],
   "source": [
    "file=open('demo.pdf','r+')\n",
    "print(file.read())\n",
    "file.write('\\npython has an interactive environment')\n",
    "file.close()"
   ]
  },
  {
   "cell_type": "code",
   "execution_count": null,
   "id": "172f548f",
   "metadata": {},
   "outputs": [],
   "source": []
  }
 ],
 "metadata": {
  "kernelspec": {
   "display_name": "Python 3 (ipykernel)",
   "language": "python",
   "name": "python3"
  },
  "language_info": {
   "codemirror_mode": {
    "name": "ipython",
    "version": 3
   },
   "file_extension": ".py",
   "mimetype": "text/x-python",
   "name": "python",
   "nbconvert_exporter": "python",
   "pygments_lexer": "ipython3",
   "version": "3.9.12"
  }
 },
 "nbformat": 4,
 "nbformat_minor": 5
}
